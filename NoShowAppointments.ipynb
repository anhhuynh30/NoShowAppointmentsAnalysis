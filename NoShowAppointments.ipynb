{
 "cells": [
  {
   "cell_type": "markdown",
   "id": "8ea64a31",
   "metadata": {},
   "source": [
    "# Project: No-show Medical Appointments\n",
    "> The aim of the project is to find the meaningful insights of the crucial factors that have strong impact on the patient's decisions on whether to present or absent for their medical appointments\n",
    "\n",
    "## Table of Contents\n",
    "<ul>\n",
    "<li><a href=\"#intro\">Introduction</a></li>\n",
    "<li><a href=\"#wrangling\">Data Wrangling</a></li>\n",
    "<li><a href=\"#eda\">Exploratory Data Analysis</a></li>\n",
    "<li><a href=\"#conclusions\">Conclusions</a></li>"
   ]
  },
  {
   "cell_type": "markdown",
   "id": "7a4e5241",
   "metadata": {},
   "source": [
    "<a id='intro'></a>\n",
    "## Introduction\n",
    "> The dataset no_show_appointments_2016 includes information from 110 527 medical appointments in Brazil in 2016 with 14 associated variables (characteristics). With these characteristics, we can generate useful insights to predict if a patient will show up for their scheduled appointment, and also to understand the common reasons why the patients decided to not show up.\n",
    ">\n",
    "The followings are the details of 14 variables in the dataset [No-show Appointments](https://www.kaggle.com/joniarroba/noshowappointments):\n",
    "\n",
    "01 - PatientID: Identification of a patient\n",
    "\n",
    "02 - AppointmentID: Identification of each appointment\n",
    "\n",
    "03 - Gender: Male or Female\n",
    "\n",
    "04 - ScheduledDay: The day the patient called or registered the appointment (happens before the appointment)\n",
    "\n",
    "05 - AppointmentDay: The day of the actual appointment, when the patient has to visit the doctor\n",
    "\n",
    "06 - Age: How old the patent is\n",
    "\n",
    "07 - Neighbourhood: The location of the hospital\n",
    "\n",
    "08 - Scholarship: True or False. Indicating whether or not the patient is enrolled in Brasilian welfare program [Bolsa Família](https://en.wikipedia.org/wiki/Bolsa_Fam%C3%ADlia)\n",
    "\n",
    "09 - Hipertension: True or False. Indicating whether or not the patient has high blood pressure [Hypertension](https://www.cdc.gov/bloodpressure/about.htm#:~:text=High%20blood%20pressure%2C%20also%20called,blood%20pressure%20(or%20hypertension))\n",
    "\n",
    "10 - Diabetes: True or False. Indicating whether or not the patient has high blood sugar/glucose [Diabetes](https://www.niddk.nih.gov/health-information/diabetes/overview/what-is-diabetes#:~:text=Diabetes%20is%20a%20disease%20that,to%20be%20used%20for%20energy.)\n",
    "\n",
    "11 - Alcoholism: True or False. Indicating whther or not the patient has the addiction to alcohol [Alcoholism](https://en.wikipedia.org/wiki/Alcoholism)\n",
    "\n",
    "12 - Handcap: True or False. Indicating whether or not the patient is handicap\n",
    "\n",
    "13 - SMS_received: 1 or more messages sent to the patient\n",
    "\n",
    "14 - No-show: Yes or No. 'Yes' if the patient did NOT show up. 'No' if the patient showed up for the appointment\n",
    "\n",
    "\n",
    "### To generate meaniful insights into the dataset, I will apply my data analysis skills and knowledge that I have learned so far to find answers for these following questions:\n",
    "- **Q1:** Which gender (M/F) accounts for more absent appointments?\n",
    "- **Q2:** How long in average does it take between the ScheduledDay and AppointmentDay? Does the length of the waiting period affect the patient's decisions of being absent for their medical appointments?\n",
    "- **Q3:** Which age range has the highest percentage for absent appointments?\n",
    "- **Q4:** How does the distribution of absent appointments in different neighbourhood look like? Which are the top 3 neighbourhood with absent appointments?\n",
    "- **Q5:** How do other factors (scholarship, hypertension, diabetes, alcoholism, handicap) affect to the present/absent rate of the patients?\n",
    "- **Q6:** Would sending SMS messages to the patients influence the present/absent rate of the patients?"
   ]
  },
  {
   "cell_type": "code",
   "execution_count": 1,
   "id": "7902a07f",
   "metadata": {},
   "outputs": [],
   "source": [
    "# Import all the needed packages\n",
    "import pandas as pd\n",
    "import numpy as np\n",
    "import matplotlib.pyplot as plt\n",
    "import seaborn as sns\n",
    "%matplotlib inline"
   ]
  },
  {
   "cell_type": "markdown",
   "id": "c41b1d48",
   "metadata": {},
   "source": [
    "<a id='wrangling'></a>\n",
    "\n",
    "## Data Wrangling\n",
    "\n",
    "> In this section, I will check for the cleanliness of the data, then trim and clean the dataset to make it ready for the analysis."
   ]
  },
  {
   "cell_type": "code",
   "execution_count": 2,
   "id": "ab6a4721",
   "metadata": {},
   "outputs": [],
   "source": [
    "# Load the data\n",
    "df = pd.read_csv('no_show_appointments_2016.csv')"
   ]
  },
  {
   "cell_type": "code",
   "execution_count": 4,
   "id": "811e93a4",
   "metadata": {
    "scrolled": true
   },
   "outputs": [
    {
     "data": {
      "text/html": [
       "<div>\n",
       "<style scoped>\n",
       "    .dataframe tbody tr th:only-of-type {\n",
       "        vertical-align: middle;\n",
       "    }\n",
       "\n",
       "    .dataframe tbody tr th {\n",
       "        vertical-align: top;\n",
       "    }\n",
       "\n",
       "    .dataframe thead th {\n",
       "        text-align: right;\n",
       "    }\n",
       "</style>\n",
       "<table border=\"1\" class=\"dataframe\">\n",
       "  <thead>\n",
       "    <tr style=\"text-align: right;\">\n",
       "      <th></th>\n",
       "      <th>PatientId</th>\n",
       "      <th>AppointmentID</th>\n",
       "      <th>Gender</th>\n",
       "      <th>ScheduledDay</th>\n",
       "      <th>AppointmentDay</th>\n",
       "      <th>Age</th>\n",
       "      <th>Neighbourhood</th>\n",
       "      <th>Scholarship</th>\n",
       "      <th>Hipertension</th>\n",
       "      <th>Diabetes</th>\n",
       "      <th>Alcoholism</th>\n",
       "      <th>Handcap</th>\n",
       "      <th>SMS_received</th>\n",
       "      <th>No-show</th>\n",
       "    </tr>\n",
       "  </thead>\n",
       "  <tbody>\n",
       "    <tr>\n",
       "      <th>0</th>\n",
       "      <td>2.987250e+13</td>\n",
       "      <td>5642903</td>\n",
       "      <td>F</td>\n",
       "      <td>2016-04-29T18:38:08Z</td>\n",
       "      <td>2016-04-29T00:00:00Z</td>\n",
       "      <td>62</td>\n",
       "      <td>JARDIM DA PENHA</td>\n",
       "      <td>0</td>\n",
       "      <td>1</td>\n",
       "      <td>0</td>\n",
       "      <td>0</td>\n",
       "      <td>0</td>\n",
       "      <td>0</td>\n",
       "      <td>No</td>\n",
       "    </tr>\n",
       "    <tr>\n",
       "      <th>1</th>\n",
       "      <td>5.589978e+14</td>\n",
       "      <td>5642503</td>\n",
       "      <td>M</td>\n",
       "      <td>2016-04-29T16:08:27Z</td>\n",
       "      <td>2016-04-29T00:00:00Z</td>\n",
       "      <td>56</td>\n",
       "      <td>JARDIM DA PENHA</td>\n",
       "      <td>0</td>\n",
       "      <td>0</td>\n",
       "      <td>0</td>\n",
       "      <td>0</td>\n",
       "      <td>0</td>\n",
       "      <td>0</td>\n",
       "      <td>No</td>\n",
       "    </tr>\n",
       "    <tr>\n",
       "      <th>2</th>\n",
       "      <td>4.262962e+12</td>\n",
       "      <td>5642549</td>\n",
       "      <td>F</td>\n",
       "      <td>2016-04-29T16:19:04Z</td>\n",
       "      <td>2016-04-29T00:00:00Z</td>\n",
       "      <td>62</td>\n",
       "      <td>MATA DA PRAIA</td>\n",
       "      <td>0</td>\n",
       "      <td>0</td>\n",
       "      <td>0</td>\n",
       "      <td>0</td>\n",
       "      <td>0</td>\n",
       "      <td>0</td>\n",
       "      <td>No</td>\n",
       "    </tr>\n",
       "    <tr>\n",
       "      <th>3</th>\n",
       "      <td>8.679512e+11</td>\n",
       "      <td>5642828</td>\n",
       "      <td>F</td>\n",
       "      <td>2016-04-29T17:29:31Z</td>\n",
       "      <td>2016-04-29T00:00:00Z</td>\n",
       "      <td>8</td>\n",
       "      <td>PONTAL DE CAMBURI</td>\n",
       "      <td>0</td>\n",
       "      <td>0</td>\n",
       "      <td>0</td>\n",
       "      <td>0</td>\n",
       "      <td>0</td>\n",
       "      <td>0</td>\n",
       "      <td>No</td>\n",
       "    </tr>\n",
       "    <tr>\n",
       "      <th>4</th>\n",
       "      <td>8.841186e+12</td>\n",
       "      <td>5642494</td>\n",
       "      <td>F</td>\n",
       "      <td>2016-04-29T16:07:23Z</td>\n",
       "      <td>2016-04-29T00:00:00Z</td>\n",
       "      <td>56</td>\n",
       "      <td>JARDIM DA PENHA</td>\n",
       "      <td>0</td>\n",
       "      <td>1</td>\n",
       "      <td>1</td>\n",
       "      <td>0</td>\n",
       "      <td>0</td>\n",
       "      <td>0</td>\n",
       "      <td>No</td>\n",
       "    </tr>\n",
       "  </tbody>\n",
       "</table>\n",
       "</div>"
      ],
      "text/plain": [
       "      PatientId  AppointmentID Gender          ScheduledDay  \\\n",
       "0  2.987250e+13        5642903      F  2016-04-29T18:38:08Z   \n",
       "1  5.589978e+14        5642503      M  2016-04-29T16:08:27Z   \n",
       "2  4.262962e+12        5642549      F  2016-04-29T16:19:04Z   \n",
       "3  8.679512e+11        5642828      F  2016-04-29T17:29:31Z   \n",
       "4  8.841186e+12        5642494      F  2016-04-29T16:07:23Z   \n",
       "\n",
       "         AppointmentDay  Age      Neighbourhood  Scholarship  Hipertension  \\\n",
       "0  2016-04-29T00:00:00Z   62    JARDIM DA PENHA            0             1   \n",
       "1  2016-04-29T00:00:00Z   56    JARDIM DA PENHA            0             0   \n",
       "2  2016-04-29T00:00:00Z   62      MATA DA PRAIA            0             0   \n",
       "3  2016-04-29T00:00:00Z    8  PONTAL DE CAMBURI            0             0   \n",
       "4  2016-04-29T00:00:00Z   56    JARDIM DA PENHA            0             1   \n",
       "\n",
       "   Diabetes  Alcoholism  Handcap  SMS_received No-show  \n",
       "0         0           0        0             0      No  \n",
       "1         0           0        0             0      No  \n",
       "2         0           0        0             0      No  \n",
       "3         0           0        0             0      No  \n",
       "4         1           0        0             0      No  "
      ]
     },
     "execution_count": 4,
     "metadata": {},
     "output_type": "execute_result"
    }
   ],
   "source": [
    "df.head()"
   ]
  },
  {
   "cell_type": "markdown",
   "id": "ed27e3b9",
   "metadata": {},
   "source": [
    "> **Note:** *ScheduleDay* has specific time provided while *AppointmentDay* has none (only 00:00:00). It would be good to take off the time part since it's not necessary information."
   ]
  },
  {
   "cell_type": "code",
   "execution_count": 5,
   "id": "a2e0f3ab",
   "metadata": {},
   "outputs": [
    {
     "name": "stdout",
     "output_type": "stream",
     "text": [
      "<class 'pandas.core.frame.DataFrame'>\n",
      "RangeIndex: 110527 entries, 0 to 110526\n",
      "Data columns (total 14 columns):\n",
      " #   Column          Non-Null Count   Dtype  \n",
      "---  ------          --------------   -----  \n",
      " 0   PatientId       110527 non-null  float64\n",
      " 1   AppointmentID   110527 non-null  int64  \n",
      " 2   Gender          110527 non-null  object \n",
      " 3   ScheduledDay    110527 non-null  object \n",
      " 4   AppointmentDay  110527 non-null  object \n",
      " 5   Age             110527 non-null  int64  \n",
      " 6   Neighbourhood   110527 non-null  object \n",
      " 7   Scholarship     110527 non-null  int64  \n",
      " 8   Hipertension    110527 non-null  int64  \n",
      " 9   Diabetes        110527 non-null  int64  \n",
      " 10  Alcoholism      110527 non-null  int64  \n",
      " 11  Handcap         110527 non-null  int64  \n",
      " 12  SMS_received    110527 non-null  int64  \n",
      " 13  No-show         110527 non-null  object \n",
      "dtypes: float64(1), int64(8), object(5)\n",
      "memory usage: 11.8+ MB\n"
     ]
    }
   ],
   "source": [
    "df.info()"
   ]
  },
  {
   "cell_type": "code",
   "execution_count": 6,
   "id": "b02024a8",
   "metadata": {},
   "outputs": [
    {
     "data": {
      "text/plain": [
       "(110527, 14)"
      ]
     },
     "execution_count": 6,
     "metadata": {},
     "output_type": "execute_result"
    }
   ],
   "source": [
    "df.shape"
   ]
  },
  {
   "cell_type": "markdown",
   "id": "b4123544",
   "metadata": {},
   "source": [
    "> **Note:** There are in total 110 527 rows and 14 columns in the dataset"
   ]
  },
  {
   "cell_type": "code",
   "execution_count": 7,
   "id": "3815a42b",
   "metadata": {},
   "outputs": [
    {
     "data": {
      "text/html": [
       "<div>\n",
       "<style scoped>\n",
       "    .dataframe tbody tr th:only-of-type {\n",
       "        vertical-align: middle;\n",
       "    }\n",
       "\n",
       "    .dataframe tbody tr th {\n",
       "        vertical-align: top;\n",
       "    }\n",
       "\n",
       "    .dataframe thead th {\n",
       "        text-align: right;\n",
       "    }\n",
       "</style>\n",
       "<table border=\"1\" class=\"dataframe\">\n",
       "  <thead>\n",
       "    <tr style=\"text-align: right;\">\n",
       "      <th></th>\n",
       "      <th>PatientId</th>\n",
       "      <th>AppointmentID</th>\n",
       "      <th>Age</th>\n",
       "      <th>Scholarship</th>\n",
       "      <th>Hipertension</th>\n",
       "      <th>Diabetes</th>\n",
       "      <th>Alcoholism</th>\n",
       "      <th>Handcap</th>\n",
       "      <th>SMS_received</th>\n",
       "    </tr>\n",
       "  </thead>\n",
       "  <tbody>\n",
       "    <tr>\n",
       "      <th>count</th>\n",
       "      <td>1.105270e+05</td>\n",
       "      <td>1.105270e+05</td>\n",
       "      <td>110527.000000</td>\n",
       "      <td>110527.000000</td>\n",
       "      <td>110527.000000</td>\n",
       "      <td>110527.000000</td>\n",
       "      <td>110527.000000</td>\n",
       "      <td>110527.000000</td>\n",
       "      <td>110527.000000</td>\n",
       "    </tr>\n",
       "    <tr>\n",
       "      <th>mean</th>\n",
       "      <td>1.474963e+14</td>\n",
       "      <td>5.675305e+06</td>\n",
       "      <td>37.088874</td>\n",
       "      <td>0.098266</td>\n",
       "      <td>0.197246</td>\n",
       "      <td>0.071865</td>\n",
       "      <td>0.030400</td>\n",
       "      <td>0.022248</td>\n",
       "      <td>0.321026</td>\n",
       "    </tr>\n",
       "    <tr>\n",
       "      <th>std</th>\n",
       "      <td>2.560949e+14</td>\n",
       "      <td>7.129575e+04</td>\n",
       "      <td>23.110205</td>\n",
       "      <td>0.297675</td>\n",
       "      <td>0.397921</td>\n",
       "      <td>0.258265</td>\n",
       "      <td>0.171686</td>\n",
       "      <td>0.161543</td>\n",
       "      <td>0.466873</td>\n",
       "    </tr>\n",
       "    <tr>\n",
       "      <th>min</th>\n",
       "      <td>3.921784e+04</td>\n",
       "      <td>5.030230e+06</td>\n",
       "      <td>-1.000000</td>\n",
       "      <td>0.000000</td>\n",
       "      <td>0.000000</td>\n",
       "      <td>0.000000</td>\n",
       "      <td>0.000000</td>\n",
       "      <td>0.000000</td>\n",
       "      <td>0.000000</td>\n",
       "    </tr>\n",
       "    <tr>\n",
       "      <th>25%</th>\n",
       "      <td>4.172614e+12</td>\n",
       "      <td>5.640286e+06</td>\n",
       "      <td>18.000000</td>\n",
       "      <td>0.000000</td>\n",
       "      <td>0.000000</td>\n",
       "      <td>0.000000</td>\n",
       "      <td>0.000000</td>\n",
       "      <td>0.000000</td>\n",
       "      <td>0.000000</td>\n",
       "    </tr>\n",
       "    <tr>\n",
       "      <th>50%</th>\n",
       "      <td>3.173184e+13</td>\n",
       "      <td>5.680573e+06</td>\n",
       "      <td>37.000000</td>\n",
       "      <td>0.000000</td>\n",
       "      <td>0.000000</td>\n",
       "      <td>0.000000</td>\n",
       "      <td>0.000000</td>\n",
       "      <td>0.000000</td>\n",
       "      <td>0.000000</td>\n",
       "    </tr>\n",
       "    <tr>\n",
       "      <th>75%</th>\n",
       "      <td>9.439172e+13</td>\n",
       "      <td>5.725524e+06</td>\n",
       "      <td>55.000000</td>\n",
       "      <td>0.000000</td>\n",
       "      <td>0.000000</td>\n",
       "      <td>0.000000</td>\n",
       "      <td>0.000000</td>\n",
       "      <td>0.000000</td>\n",
       "      <td>1.000000</td>\n",
       "    </tr>\n",
       "    <tr>\n",
       "      <th>max</th>\n",
       "      <td>9.999816e+14</td>\n",
       "      <td>5.790484e+06</td>\n",
       "      <td>115.000000</td>\n",
       "      <td>1.000000</td>\n",
       "      <td>1.000000</td>\n",
       "      <td>1.000000</td>\n",
       "      <td>1.000000</td>\n",
       "      <td>4.000000</td>\n",
       "      <td>1.000000</td>\n",
       "    </tr>\n",
       "  </tbody>\n",
       "</table>\n",
       "</div>"
      ],
      "text/plain": [
       "          PatientId  AppointmentID            Age    Scholarship  \\\n",
       "count  1.105270e+05   1.105270e+05  110527.000000  110527.000000   \n",
       "mean   1.474963e+14   5.675305e+06      37.088874       0.098266   \n",
       "std    2.560949e+14   7.129575e+04      23.110205       0.297675   \n",
       "min    3.921784e+04   5.030230e+06      -1.000000       0.000000   \n",
       "25%    4.172614e+12   5.640286e+06      18.000000       0.000000   \n",
       "50%    3.173184e+13   5.680573e+06      37.000000       0.000000   \n",
       "75%    9.439172e+13   5.725524e+06      55.000000       0.000000   \n",
       "max    9.999816e+14   5.790484e+06     115.000000       1.000000   \n",
       "\n",
       "        Hipertension       Diabetes     Alcoholism        Handcap  \\\n",
       "count  110527.000000  110527.000000  110527.000000  110527.000000   \n",
       "mean        0.197246       0.071865       0.030400       0.022248   \n",
       "std         0.397921       0.258265       0.171686       0.161543   \n",
       "min         0.000000       0.000000       0.000000       0.000000   \n",
       "25%         0.000000       0.000000       0.000000       0.000000   \n",
       "50%         0.000000       0.000000       0.000000       0.000000   \n",
       "75%         0.000000       0.000000       0.000000       0.000000   \n",
       "max         1.000000       1.000000       1.000000       4.000000   \n",
       "\n",
       "        SMS_received  \n",
       "count  110527.000000  \n",
       "mean        0.321026  \n",
       "std         0.466873  \n",
       "min         0.000000  \n",
       "25%         0.000000  \n",
       "50%         0.000000  \n",
       "75%         1.000000  \n",
       "max         1.000000  "
      ]
     },
     "execution_count": 7,
     "metadata": {},
     "output_type": "execute_result"
    }
   ],
   "source": [
    "df.describe()"
   ]
  },
  {
   "cell_type": "code",
   "execution_count": 8,
   "id": "30633dfd",
   "metadata": {},
   "outputs": [
    {
     "data": {
      "text/plain": [
       "PatientId         0\n",
       "AppointmentID     0\n",
       "Gender            0\n",
       "ScheduledDay      0\n",
       "AppointmentDay    0\n",
       "Age               0\n",
       "Neighbourhood     0\n",
       "Scholarship       0\n",
       "Hipertension      0\n",
       "Diabetes          0\n",
       "Alcoholism        0\n",
       "Handcap           0\n",
       "SMS_received      0\n",
       "No-show           0\n",
       "dtype: int64"
      ]
     },
     "execution_count": 8,
     "metadata": {},
     "output_type": "execute_result"
    }
   ],
   "source": [
    "# Check if there're null values\n",
    "df.isnull().sum()"
   ]
  },
  {
   "cell_type": "markdown",
   "id": "e1120729",
   "metadata": {},
   "source": [
    "> **Note:** There is no null values in the dataset."
   ]
  },
  {
   "cell_type": "code",
   "execution_count": 9,
   "id": "fede2718",
   "metadata": {},
   "outputs": [
    {
     "data": {
      "text/plain": [
       "PatientId          62299\n",
       "AppointmentID     110527\n",
       "Gender                 2\n",
       "ScheduledDay      103549\n",
       "AppointmentDay        27\n",
       "Age                  104\n",
       "Neighbourhood         81\n",
       "Scholarship            2\n",
       "Hipertension           2\n",
       "Diabetes               2\n",
       "Alcoholism             2\n",
       "Handcap                5\n",
       "SMS_received           2\n",
       "No-show                2\n",
       "dtype: int64"
      ]
     },
     "execution_count": 9,
     "metadata": {},
     "output_type": "execute_result"
    }
   ],
   "source": [
    "df.nunique()"
   ]
  },
  {
   "cell_type": "markdown",
   "id": "bd4bef68",
   "metadata": {},
   "source": [
    "> **Note:** There are **62 299** patients with **110 527** Appointment IDs, which means that there are patients who have more than one appointment. The patients called to schedule the appointments on **103 549** days, but the number of actual days when the appointments happens is only in **27** unique days. The appointments are arranged in **81** different neighbourhoods."
   ]
  },
  {
   "cell_type": "code",
   "execution_count": 10,
   "id": "de40f180",
   "metadata": {},
   "outputs": [
    {
     "data": {
      "text/plain": [
       "0"
      ]
     },
     "execution_count": 10,
     "metadata": {},
     "output_type": "execute_result"
    }
   ],
   "source": [
    "# Check for duplicate rows\n",
    "df.duplicated().sum()"
   ]
  },
  {
   "cell_type": "markdown",
   "id": "0c2239fb",
   "metadata": {},
   "source": [
    "> **Note:** The dataset has no duplicate rows."
   ]
  },
  {
   "cell_type": "code",
   "execution_count": 11,
   "id": "ee2f3224",
   "metadata": {},
   "outputs": [
    {
     "data": {
      "text/plain": [
       "count    110527.000000\n",
       "mean         37.088874\n",
       "std          23.110205\n",
       "min          -1.000000\n",
       "25%          18.000000\n",
       "50%          37.000000\n",
       "75%          55.000000\n",
       "max         115.000000\n",
       "Name: Age, dtype: float64"
      ]
     },
     "execution_count": 11,
     "metadata": {},
     "output_type": "execute_result"
    }
   ],
   "source": [
    "# Explore the Age range of the patients\n",
    "df['Age'].describe()"
   ]
  },
  {
   "cell_type": "markdown",
   "id": "5d32c80d",
   "metadata": {},
   "source": [
    "> **Note:** The average age of **110 527** patients in the dataset is **37** years-old. The oldest age is **115** years-old, while the youngest age is **minus one (-1)**, which is propably incorrect. The issue with min age will need to be fixed."
   ]
  },
  {
   "cell_type": "code",
   "execution_count": 12,
   "id": "0f6e57fd",
   "metadata": {},
   "outputs": [
    {
     "data": {
      "text/plain": [
       "count                   110527\n",
       "unique                      27\n",
       "top       2016-06-06T00:00:00Z\n",
       "freq                      4692\n",
       "Name: AppointmentDay, dtype: object"
      ]
     },
     "execution_count": 12,
     "metadata": {},
     "output_type": "execute_result"
    }
   ],
   "source": [
    "# Explore the AppointmentDay of the patients\n",
    "df['AppointmentDay'].describe()"
   ]
  },
  {
   "cell_type": "markdown",
   "id": "9531d78b",
   "metadata": {},
   "source": [
    "> **Note:** Since *AppointmentDay* column is **object** (string), therefore, describe() function cannot provide figure on the date range of the appointments (min and max)."
   ]
  },
  {
   "cell_type": "code",
   "execution_count": 13,
   "id": "ce5f2c96",
   "metadata": {},
   "outputs": [
    {
     "data": {
      "text/plain": [
       "'2016-04-29T00:00:00Z'"
      ]
     },
     "execution_count": 13,
     "metadata": {},
     "output_type": "execute_result"
    }
   ],
   "source": [
    "# Using min() and max() instead of describe() to explore the AppointmentDay column\n",
    "df['AppointmentDay'].min()"
   ]
  },
  {
   "cell_type": "code",
   "execution_count": 14,
   "id": "00d9d913",
   "metadata": {},
   "outputs": [
    {
     "data": {
      "text/plain": [
       "'2016-06-08T00:00:00Z'"
      ]
     },
     "execution_count": 14,
     "metadata": {},
     "output_type": "execute_result"
    }
   ],
   "source": [
    "df['AppointmentDay'].max()"
   ]
  },
  {
   "cell_type": "markdown",
   "id": "8210e2ff",
   "metadata": {},
   "source": [
    "> **Note:** In **27** unique days, the *earliest day of actual appointment* in this dataset is on **2016-04-29** and *the lastest day* is on **2016-06-08**. As we can see, all **110 527** appointments are happened within the duration of **40** days."
   ]
  },
  {
   "cell_type": "code",
   "execution_count": 15,
   "id": "6d44e794",
   "metadata": {},
   "outputs": [
    {
     "data": {
      "text/plain": [
       "'2015-11-10T07:13:56Z'"
      ]
     },
     "execution_count": 15,
     "metadata": {},
     "output_type": "execute_result"
    }
   ],
   "source": [
    "# Explore the ScheduledDay column\n",
    "df['ScheduledDay'].min()"
   ]
  },
  {
   "cell_type": "code",
   "execution_count": 16,
   "id": "6823f4a8",
   "metadata": {},
   "outputs": [
    {
     "data": {
      "text/plain": [
       "'2016-06-08T20:07:23Z'"
      ]
     },
     "execution_count": 16,
     "metadata": {},
     "output_type": "execute_result"
    }
   ],
   "source": [
    "df['ScheduledDay'].max()"
   ]
  },
  {
   "cell_type": "markdown",
   "id": "c33fae1a",
   "metadata": {},
   "source": [
    "> **Note:** The period when the patients *called to schedule* their appointments is from **2015-11-10** to **2016-06-08**, which is in total within **211** days."
   ]
  },
  {
   "cell_type": "code",
   "execution_count": 17,
   "id": "4d9861c3",
   "metadata": {},
   "outputs": [],
   "source": [
    "# Function used to explore different factors:\n",
    "def explore (column):\n",
    "    return df[column].value_counts()"
   ]
  },
  {
   "cell_type": "code",
   "execution_count": 18,
   "id": "ec15d90a",
   "metadata": {},
   "outputs": [
    {
     "data": {
      "text/plain": [
       "F    71840\n",
       "M    38687\n",
       "Name: Gender, dtype: int64"
      ]
     },
     "execution_count": 18,
     "metadata": {},
     "output_type": "execute_result"
    }
   ],
   "source": [
    "#  Explore Gender column\n",
    "explore('Gender')"
   ]
  },
  {
   "cell_type": "markdown",
   "id": "6447d140",
   "metadata": {},
   "source": [
    " > **Note:** Gender can be treated as category type."
   ]
  },
  {
   "cell_type": "code",
   "execution_count": 19,
   "id": "f7f1f3dc",
   "metadata": {},
   "outputs": [
    {
     "data": {
      "text/plain": [
       " 0      3539\n",
       " 1      2273\n",
       " 52     1746\n",
       " 49     1652\n",
       " 53     1651\n",
       "        ... \n",
       " 115       5\n",
       " 100       4\n",
       " 102       2\n",
       " 99        1\n",
       "-1         1\n",
       "Name: Age, Length: 104, dtype: int64"
      ]
     },
     "execution_count": 19,
     "metadata": {},
     "output_type": "execute_result"
    }
   ],
   "source": [
    "# Explore Age column\n",
    "explore('Age')"
   ]
  },
  {
   "cell_type": "markdown",
   "id": "9601da61",
   "metadata": {},
   "source": [
    "> **Note:** The **-1** age must be a mistake. It will need to be dropped out from the dataset."
   ]
  },
  {
   "cell_type": "code",
   "execution_count": 20,
   "id": "96066a87",
   "metadata": {},
   "outputs": [
    {
     "data": {
      "text/plain": [
       "JARDIM CAMBURI                 7717\n",
       "MARIA ORTIZ                    5805\n",
       "RESISTÊNCIA                    4431\n",
       "JARDIM DA PENHA                3877\n",
       "ITARARÉ                        3514\n",
       "                               ... \n",
       "ILHA DO BOI                      35\n",
       "ILHA DO FRADE                    10\n",
       "AEROPORTO                         8\n",
       "ILHAS OCEÂNICAS DE TRINDADE       2\n",
       "PARQUE INDUSTRIAL                 1\n",
       "Name: Neighbourhood, Length: 81, dtype: int64"
      ]
     },
     "execution_count": 20,
     "metadata": {},
     "output_type": "execute_result"
    }
   ],
   "source": [
    "# Explore Neighbourhood column\n",
    "explore('Neighbourhood')"
   ]
  },
  {
   "cell_type": "markdown",
   "id": "11884860",
   "metadata": {},
   "source": [
    "> **Note:** There are **81** neighbourhoods in the dataset. This column can be treated as **category** type instead of object (string)."
   ]
  },
  {
   "cell_type": "code",
   "execution_count": 21,
   "id": "12b255ca",
   "metadata": {},
   "outputs": [
    {
     "data": {
      "text/plain": [
       "0    99666\n",
       "1    10861\n",
       "Name: Scholarship, dtype: int64"
      ]
     },
     "execution_count": 21,
     "metadata": {},
     "output_type": "execute_result"
    }
   ],
   "source": [
    "# Explore Scholarship\n",
    "explore('Scholarship')"
   ]
  },
  {
   "cell_type": "markdown",
   "id": "2b4dfe4d",
   "metadata": {},
   "source": [
    "> **Note:** Convert Scholarship **int** type to **bool** type."
   ]
  },
  {
   "cell_type": "code",
   "execution_count": 22,
   "id": "98b94497",
   "metadata": {},
   "outputs": [
    {
     "data": {
      "text/plain": [
       "0    88726\n",
       "1    21801\n",
       "Name: Hipertension, dtype: int64"
      ]
     },
     "execution_count": 22,
     "metadata": {},
     "output_type": "execute_result"
    }
   ],
   "source": [
    "# Explore Hipertension\n",
    "explore('Hipertension')"
   ]
  },
  {
   "cell_type": "markdown",
   "id": "ddbfb962",
   "metadata": {},
   "source": [
    "> **Note:** Fix typo *Hipertension* to * *Hypertension*. Convert **int** to **bool**."
   ]
  },
  {
   "cell_type": "code",
   "execution_count": 24,
   "id": "745abfe1",
   "metadata": {},
   "outputs": [
    {
     "data": {
      "text/plain": [
       "0    102584\n",
       "1      7943\n",
       "Name: Diabetes, dtype: int64"
      ]
     },
     "execution_count": 24,
     "metadata": {},
     "output_type": "execute_result"
    }
   ],
   "source": [
    "# Explore Diabetes\n",
    "explore('Diabetes')"
   ]
  },
  {
   "cell_type": "markdown",
   "id": "801ad281",
   "metadata": {},
   "source": [
    "> **Note:** Convert **int** to **bool**"
   ]
  },
  {
   "cell_type": "code",
   "execution_count": 23,
   "id": "b96fce0d",
   "metadata": {},
   "outputs": [
    {
     "data": {
      "text/plain": [
       "0    107167\n",
       "1      3360\n",
       "Name: Alcoholism, dtype: int64"
      ]
     },
     "execution_count": 23,
     "metadata": {},
     "output_type": "execute_result"
    }
   ],
   "source": [
    "# Explore Alcoholism\n",
    "explore('Alcoholism')"
   ]
  },
  {
   "cell_type": "markdown",
   "id": "b0e3882e",
   "metadata": {},
   "source": [
    "> **Note:** Convert **int** to **bool**"
   ]
  },
  {
   "cell_type": "code",
   "execution_count": 25,
   "id": "9a25cec6",
   "metadata": {},
   "outputs": [
    {
     "data": {
      "text/plain": [
       "0    108286\n",
       "1      2042\n",
       "2       183\n",
       "3        13\n",
       "4         3\n",
       "Name: Handcap, dtype: int64"
      ]
     },
     "execution_count": 25,
     "metadata": {},
     "output_type": "execute_result"
    }
   ],
   "source": [
    "# Explore Handcap\n",
    "explore('Handcap')"
   ]
  },
  {
   "cell_type": "markdown",
   "id": "297475b3",
   "metadata": {},
   "source": [
    "> **Note:** 5 different groups for *Hancap* column. There is only a minority of patients are in group *2,3,4*, so these three groups can be combined into the same group of group 1 (for **handicapped** patients).*0* indicates patients WITHOUT handicap. Then convert **int** to **bool**, and fix typo *Handcap* to *Handicap*. \n",
    ">\n",
    "> **Note:** There is only a minority of patients are in group *2,3,4* so it should not affect the result of the analysis when combining them into group *1*."
   ]
  },
  {
   "cell_type": "code",
   "execution_count": 26,
   "id": "0562b3c5",
   "metadata": {},
   "outputs": [
    {
     "data": {
      "text/plain": [
       "0    75045\n",
       "1    35482\n",
       "Name: SMS_received, dtype: int64"
      ]
     },
     "execution_count": 26,
     "metadata": {},
     "output_type": "execute_result"
    }
   ],
   "source": [
    "# Explore SMS_received\n",
    "explore('SMS_received')"
   ]
  },
  {
   "cell_type": "markdown",
   "id": "c0bd6981",
   "metadata": {},
   "source": [
    "> **Note:** Convert **int** to **bool**. Change *SMS_received* to *SMSReceived* for more consistency between column's names."
   ]
  },
  {
   "cell_type": "code",
   "execution_count": 27,
   "id": "7a94b033",
   "metadata": {},
   "outputs": [
    {
     "data": {
      "text/plain": [
       "No     88208\n",
       "Yes    22319\n",
       "Name: No-show, dtype: int64"
      ]
     },
     "execution_count": 27,
     "metadata": {},
     "output_type": "execute_result"
    }
   ],
   "source": [
    "# Explore No-show\n",
    "explore('No-show')"
   ]
  },
  {
   "cell_type": "markdown",
   "id": "2e6fc90e",
   "metadata": {},
   "source": [
    "> **Note**: Convert No-show from **object** type to **bool** for more consistency (convert from object --> int --> bool). Change *No-show* to *NoShow* for more consistency in column's name."
   ]
  },
  {
   "cell_type": "markdown",
   "id": "00e83e47",
   "metadata": {},
   "source": [
    "#### Summary of initial observation:\n",
    "- The dataset has **110 527** rows and **14** columns.\n",
    "- There are **no missing values** in the dataset.\n",
    "- There are **no duplicate values** in the dataset\n",
    "- There are **62 299** patients with **110 527** appointments in total.\n",
    "- The period when the patients called to schedule their appointments is from **2015-11-10** to **2016-06-08** (within **211-day** period).\n",
    "- The period when the actual appointments happened is from **2016-04-29** to **2016-06-08** (within **40-day** period). Within this 40-day period, there are **27 unique days** when the patients suppose to come to the appointments.\n",
    "- The average age of the patients is **37**. The oldest age is **115**, while the youngest age is **-1**, which is probably in correct --> *The issue with min age will need to be fixed*.\n",
    "- There are **81** neighbourhoods in the dataset. JARDIM CAMBURI has highest number of appointments, while PARQUE INDUSTRIAL has the lowest figure."
   ]
  },
  {
   "cell_type": "markdown",
   "id": "d23d4271",
   "metadata": {},
   "source": [
    "### Cleaning Data"
   ]
  },
  {
   "cell_type": "markdown",
   "id": "4b04b22f",
   "metadata": {},
   "source": [
    "#### Things need to be cleaned/fixed:\n",
    "- Fix typos and style in column's names for more consistency:\n",
    "    - **PatientId** column: 'PatientId' to 'PatientID'\n",
    "    - **Hipertension** column: 'Hipertension' to 'Hypertension'\n",
    "    - **Handcap** column: 'Handcap' to 'Handicap'\n",
    "    - **SMS_received** column: 'SMS_received' to 'SMSReceived'\n",
    "    - **No-show** column: 'No-show' to 'NoShow'\n",
    "    \n",
    "- Fix data types:\n",
    "    - **PatientID**: float -> int\n",
    "    - **ScheduledDay** and **AppointmentDay**: object -> datetime\n",
    "    - **Scholarship**, **Hypertension**, **Diabetes**, **Alcoholism**, and **SMSReceived**: int -> bool\n",
    "    - **Hancap**: combine group 2,3,4 to group 1. Then int -> bool\n",
    "    - **NoShow**: object -> int -> bool (True: absent/no shown-up patients, False: present/shown-up patients)\n",
    "    - **Gender**, **Neighbourhood**: object -> category\n",
    "    "
   ]
  },
  {
   "cell_type": "code",
   "execution_count": 28,
   "id": "d6785a57",
   "metadata": {},
   "outputs": [
    {
     "data": {
      "text/html": [
       "<div>\n",
       "<style scoped>\n",
       "    .dataframe tbody tr th:only-of-type {\n",
       "        vertical-align: middle;\n",
       "    }\n",
       "\n",
       "    .dataframe tbody tr th {\n",
       "        vertical-align: top;\n",
       "    }\n",
       "\n",
       "    .dataframe thead th {\n",
       "        text-align: right;\n",
       "    }\n",
       "</style>\n",
       "<table border=\"1\" class=\"dataframe\">\n",
       "  <thead>\n",
       "    <tr style=\"text-align: right;\">\n",
       "      <th></th>\n",
       "      <th>PatientId</th>\n",
       "      <th>AppointmentID</th>\n",
       "      <th>Gender</th>\n",
       "      <th>ScheduledDay</th>\n",
       "      <th>AppointmentDay</th>\n",
       "      <th>Age</th>\n",
       "      <th>Neighbourhood</th>\n",
       "      <th>Scholarship</th>\n",
       "      <th>Hipertension</th>\n",
       "      <th>Diabetes</th>\n",
       "      <th>Alcoholism</th>\n",
       "      <th>Handcap</th>\n",
       "      <th>SMS_received</th>\n",
       "      <th>No-show</th>\n",
       "    </tr>\n",
       "  </thead>\n",
       "  <tbody>\n",
       "    <tr>\n",
       "      <th>0</th>\n",
       "      <td>2.987250e+13</td>\n",
       "      <td>5642903</td>\n",
       "      <td>F</td>\n",
       "      <td>2016-04-29T18:38:08Z</td>\n",
       "      <td>2016-04-29T00:00:00Z</td>\n",
       "      <td>62</td>\n",
       "      <td>JARDIM DA PENHA</td>\n",
       "      <td>0</td>\n",
       "      <td>1</td>\n",
       "      <td>0</td>\n",
       "      <td>0</td>\n",
       "      <td>0</td>\n",
       "      <td>0</td>\n",
       "      <td>No</td>\n",
       "    </tr>\n",
       "    <tr>\n",
       "      <th>1</th>\n",
       "      <td>5.589978e+14</td>\n",
       "      <td>5642503</td>\n",
       "      <td>M</td>\n",
       "      <td>2016-04-29T16:08:27Z</td>\n",
       "      <td>2016-04-29T00:00:00Z</td>\n",
       "      <td>56</td>\n",
       "      <td>JARDIM DA PENHA</td>\n",
       "      <td>0</td>\n",
       "      <td>0</td>\n",
       "      <td>0</td>\n",
       "      <td>0</td>\n",
       "      <td>0</td>\n",
       "      <td>0</td>\n",
       "      <td>No</td>\n",
       "    </tr>\n",
       "    <tr>\n",
       "      <th>2</th>\n",
       "      <td>4.262962e+12</td>\n",
       "      <td>5642549</td>\n",
       "      <td>F</td>\n",
       "      <td>2016-04-29T16:19:04Z</td>\n",
       "      <td>2016-04-29T00:00:00Z</td>\n",
       "      <td>62</td>\n",
       "      <td>MATA DA PRAIA</td>\n",
       "      <td>0</td>\n",
       "      <td>0</td>\n",
       "      <td>0</td>\n",
       "      <td>0</td>\n",
       "      <td>0</td>\n",
       "      <td>0</td>\n",
       "      <td>No</td>\n",
       "    </tr>\n",
       "    <tr>\n",
       "      <th>3</th>\n",
       "      <td>8.679512e+11</td>\n",
       "      <td>5642828</td>\n",
       "      <td>F</td>\n",
       "      <td>2016-04-29T17:29:31Z</td>\n",
       "      <td>2016-04-29T00:00:00Z</td>\n",
       "      <td>8</td>\n",
       "      <td>PONTAL DE CAMBURI</td>\n",
       "      <td>0</td>\n",
       "      <td>0</td>\n",
       "      <td>0</td>\n",
       "      <td>0</td>\n",
       "      <td>0</td>\n",
       "      <td>0</td>\n",
       "      <td>No</td>\n",
       "    </tr>\n",
       "    <tr>\n",
       "      <th>4</th>\n",
       "      <td>8.841186e+12</td>\n",
       "      <td>5642494</td>\n",
       "      <td>F</td>\n",
       "      <td>2016-04-29T16:07:23Z</td>\n",
       "      <td>2016-04-29T00:00:00Z</td>\n",
       "      <td>56</td>\n",
       "      <td>JARDIM DA PENHA</td>\n",
       "      <td>0</td>\n",
       "      <td>1</td>\n",
       "      <td>1</td>\n",
       "      <td>0</td>\n",
       "      <td>0</td>\n",
       "      <td>0</td>\n",
       "      <td>No</td>\n",
       "    </tr>\n",
       "  </tbody>\n",
       "</table>\n",
       "</div>"
      ],
      "text/plain": [
       "      PatientId  AppointmentID Gender          ScheduledDay  \\\n",
       "0  2.987250e+13        5642903      F  2016-04-29T18:38:08Z   \n",
       "1  5.589978e+14        5642503      M  2016-04-29T16:08:27Z   \n",
       "2  4.262962e+12        5642549      F  2016-04-29T16:19:04Z   \n",
       "3  8.679512e+11        5642828      F  2016-04-29T17:29:31Z   \n",
       "4  8.841186e+12        5642494      F  2016-04-29T16:07:23Z   \n",
       "\n",
       "         AppointmentDay  Age      Neighbourhood  Scholarship  Hipertension  \\\n",
       "0  2016-04-29T00:00:00Z   62    JARDIM DA PENHA            0             1   \n",
       "1  2016-04-29T00:00:00Z   56    JARDIM DA PENHA            0             0   \n",
       "2  2016-04-29T00:00:00Z   62      MATA DA PRAIA            0             0   \n",
       "3  2016-04-29T00:00:00Z    8  PONTAL DE CAMBURI            0             0   \n",
       "4  2016-04-29T00:00:00Z   56    JARDIM DA PENHA            0             1   \n",
       "\n",
       "   Diabetes  Alcoholism  Handcap  SMS_received No-show  \n",
       "0         0           0        0             0      No  \n",
       "1         0           0        0             0      No  \n",
       "2         0           0        0             0      No  \n",
       "3         0           0        0             0      No  \n",
       "4         1           0        0             0      No  "
      ]
     },
     "execution_count": 28,
     "metadata": {},
     "output_type": "execute_result"
    }
   ],
   "source": [
    "df.head(5)"
   ]
  },
  {
   "cell_type": "code",
   "execution_count": 29,
   "id": "f1191e35",
   "metadata": {},
   "outputs": [],
   "source": [
    "# Renaming columns for more consistency\n",
    "df.rename(columns={'PatientId':'PatientID', 'Hipertension':'Hypertension', 'Handcap':'Handicap',\n",
    "                   'SMS_received':'SMSReceived', 'No-show':'NoShow'},inplace=True)"
   ]
  },
  {
   "cell_type": "code",
   "execution_count": 30,
   "id": "aeb83345",
   "metadata": {},
   "outputs": [
    {
     "data": {
      "text/html": [
       "<div>\n",
       "<style scoped>\n",
       "    .dataframe tbody tr th:only-of-type {\n",
       "        vertical-align: middle;\n",
       "    }\n",
       "\n",
       "    .dataframe tbody tr th {\n",
       "        vertical-align: top;\n",
       "    }\n",
       "\n",
       "    .dataframe thead th {\n",
       "        text-align: right;\n",
       "    }\n",
       "</style>\n",
       "<table border=\"1\" class=\"dataframe\">\n",
       "  <thead>\n",
       "    <tr style=\"text-align: right;\">\n",
       "      <th></th>\n",
       "      <th>PatientID</th>\n",
       "      <th>AppointmentID</th>\n",
       "      <th>Gender</th>\n",
       "      <th>ScheduledDay</th>\n",
       "      <th>AppointmentDay</th>\n",
       "      <th>Age</th>\n",
       "      <th>Neighbourhood</th>\n",
       "      <th>Scholarship</th>\n",
       "      <th>Hypertension</th>\n",
       "      <th>Diabetes</th>\n",
       "      <th>Alcoholism</th>\n",
       "      <th>Handicap</th>\n",
       "      <th>SMSReceived</th>\n",
       "      <th>NoShow</th>\n",
       "    </tr>\n",
       "  </thead>\n",
       "  <tbody>\n",
       "    <tr>\n",
       "      <th>0</th>\n",
       "      <td>2.987250e+13</td>\n",
       "      <td>5642903</td>\n",
       "      <td>F</td>\n",
       "      <td>2016-04-29T18:38:08Z</td>\n",
       "      <td>2016-04-29T00:00:00Z</td>\n",
       "      <td>62</td>\n",
       "      <td>JARDIM DA PENHA</td>\n",
       "      <td>0</td>\n",
       "      <td>1</td>\n",
       "      <td>0</td>\n",
       "      <td>0</td>\n",
       "      <td>0</td>\n",
       "      <td>0</td>\n",
       "      <td>No</td>\n",
       "    </tr>\n",
       "    <tr>\n",
       "      <th>1</th>\n",
       "      <td>5.589978e+14</td>\n",
       "      <td>5642503</td>\n",
       "      <td>M</td>\n",
       "      <td>2016-04-29T16:08:27Z</td>\n",
       "      <td>2016-04-29T00:00:00Z</td>\n",
       "      <td>56</td>\n",
       "      <td>JARDIM DA PENHA</td>\n",
       "      <td>0</td>\n",
       "      <td>0</td>\n",
       "      <td>0</td>\n",
       "      <td>0</td>\n",
       "      <td>0</td>\n",
       "      <td>0</td>\n",
       "      <td>No</td>\n",
       "    </tr>\n",
       "    <tr>\n",
       "      <th>2</th>\n",
       "      <td>4.262962e+12</td>\n",
       "      <td>5642549</td>\n",
       "      <td>F</td>\n",
       "      <td>2016-04-29T16:19:04Z</td>\n",
       "      <td>2016-04-29T00:00:00Z</td>\n",
       "      <td>62</td>\n",
       "      <td>MATA DA PRAIA</td>\n",
       "      <td>0</td>\n",
       "      <td>0</td>\n",
       "      <td>0</td>\n",
       "      <td>0</td>\n",
       "      <td>0</td>\n",
       "      <td>0</td>\n",
       "      <td>No</td>\n",
       "    </tr>\n",
       "    <tr>\n",
       "      <th>3</th>\n",
       "      <td>8.679512e+11</td>\n",
       "      <td>5642828</td>\n",
       "      <td>F</td>\n",
       "      <td>2016-04-29T17:29:31Z</td>\n",
       "      <td>2016-04-29T00:00:00Z</td>\n",
       "      <td>8</td>\n",
       "      <td>PONTAL DE CAMBURI</td>\n",
       "      <td>0</td>\n",
       "      <td>0</td>\n",
       "      <td>0</td>\n",
       "      <td>0</td>\n",
       "      <td>0</td>\n",
       "      <td>0</td>\n",
       "      <td>No</td>\n",
       "    </tr>\n",
       "    <tr>\n",
       "      <th>4</th>\n",
       "      <td>8.841186e+12</td>\n",
       "      <td>5642494</td>\n",
       "      <td>F</td>\n",
       "      <td>2016-04-29T16:07:23Z</td>\n",
       "      <td>2016-04-29T00:00:00Z</td>\n",
       "      <td>56</td>\n",
       "      <td>JARDIM DA PENHA</td>\n",
       "      <td>0</td>\n",
       "      <td>1</td>\n",
       "      <td>1</td>\n",
       "      <td>0</td>\n",
       "      <td>0</td>\n",
       "      <td>0</td>\n",
       "      <td>No</td>\n",
       "    </tr>\n",
       "  </tbody>\n",
       "</table>\n",
       "</div>"
      ],
      "text/plain": [
       "      PatientID  AppointmentID Gender          ScheduledDay  \\\n",
       "0  2.987250e+13        5642903      F  2016-04-29T18:38:08Z   \n",
       "1  5.589978e+14        5642503      M  2016-04-29T16:08:27Z   \n",
       "2  4.262962e+12        5642549      F  2016-04-29T16:19:04Z   \n",
       "3  8.679512e+11        5642828      F  2016-04-29T17:29:31Z   \n",
       "4  8.841186e+12        5642494      F  2016-04-29T16:07:23Z   \n",
       "\n",
       "         AppointmentDay  Age      Neighbourhood  Scholarship  Hypertension  \\\n",
       "0  2016-04-29T00:00:00Z   62    JARDIM DA PENHA            0             1   \n",
       "1  2016-04-29T00:00:00Z   56    JARDIM DA PENHA            0             0   \n",
       "2  2016-04-29T00:00:00Z   62      MATA DA PRAIA            0             0   \n",
       "3  2016-04-29T00:00:00Z    8  PONTAL DE CAMBURI            0             0   \n",
       "4  2016-04-29T00:00:00Z   56    JARDIM DA PENHA            0             1   \n",
       "\n",
       "   Diabetes  Alcoholism  Handicap  SMSReceived NoShow  \n",
       "0         0           0         0            0     No  \n",
       "1         0           0         0            0     No  \n",
       "2         0           0         0            0     No  \n",
       "3         0           0         0            0     No  \n",
       "4         1           0         0            0     No  "
      ]
     },
     "execution_count": 30,
     "metadata": {},
     "output_type": "execute_result"
    }
   ],
   "source": [
    "# Confirming changes in column's names were made\n",
    "df.head(5)"
   ]
  },
  {
   "cell_type": "code",
   "execution_count": 31,
   "id": "659a2128",
   "metadata": {},
   "outputs": [
    {
     "name": "stdout",
     "output_type": "stream",
     "text": [
      "<class 'pandas.core.frame.DataFrame'>\n",
      "RangeIndex: 110527 entries, 0 to 110526\n",
      "Data columns (total 14 columns):\n",
      " #   Column          Non-Null Count   Dtype  \n",
      "---  ------          --------------   -----  \n",
      " 0   PatientID       110527 non-null  float64\n",
      " 1   AppointmentID   110527 non-null  int64  \n",
      " 2   Gender          110527 non-null  object \n",
      " 3   ScheduledDay    110527 non-null  object \n",
      " 4   AppointmentDay  110527 non-null  object \n",
      " 5   Age             110527 non-null  int64  \n",
      " 6   Neighbourhood   110527 non-null  object \n",
      " 7   Scholarship     110527 non-null  int64  \n",
      " 8   Hypertension    110527 non-null  int64  \n",
      " 9   Diabetes        110527 non-null  int64  \n",
      " 10  Alcoholism      110527 non-null  int64  \n",
      " 11  Handicap        110527 non-null  int64  \n",
      " 12  SMSReceived     110527 non-null  int64  \n",
      " 13  NoShow          110527 non-null  object \n",
      "dtypes: float64(1), int64(8), object(5)\n",
      "memory usage: 11.8+ MB\n"
     ]
    }
   ],
   "source": [
    "df.info()"
   ]
  },
  {
   "cell_type": "code",
   "execution_count": 32,
   "id": "9d3e4e3b",
   "metadata": {},
   "outputs": [],
   "source": [
    "# PatientID: float -> int\n",
    "df['PatientID'] = df['PatientID'].astype(int)"
   ]
  },
  {
   "cell_type": "code",
   "execution_count": 33,
   "id": "37c96b01",
   "metadata": {},
   "outputs": [],
   "source": [
    "# ScheduledDay and AppointmentDay: object -> datetime\n",
    "for c in ['ScheduledDay','AppointmentDay']:\n",
    "    df[c] = pd.to_datetime(df[c])"
   ]
  },
  {
   "cell_type": "code",
   "execution_count": 34,
   "id": "52d97243",
   "metadata": {},
   "outputs": [],
   "source": [
    "# Scholarship, Hypertension, Diabetes, Alcoholism, and SMSReceived: int -> bool\n",
    "for c in ['Scholarship','Hypertension', 'Diabetes', 'Alcoholism', 'SMSReceived']:\n",
    "    df[c] = df[c].astype(bool)"
   ]
  },
  {
   "cell_type": "code",
   "execution_count": 35,
   "id": "c81df4fb",
   "metadata": {},
   "outputs": [],
   "source": [
    "# Handicap: combine group 2, 3, 4 to group 1\n",
    "df.loc[df['Handicap'] > 1, 'Handicap'] = 1"
   ]
  },
  {
   "cell_type": "code",
   "execution_count": 36,
   "id": "425ac0a4",
   "metadata": {},
   "outputs": [
    {
     "data": {
      "text/plain": [
       "0    108286\n",
       "1      2241\n",
       "Name: Handicap, dtype: int64"
      ]
     },
     "execution_count": 36,
     "metadata": {},
     "output_type": "execute_result"
    }
   ],
   "source": [
    "# Check to make sure Handicap column contains only two values 0 or 1\n",
    "df['Handicap'].value_counts()"
   ]
  },
  {
   "cell_type": "code",
   "execution_count": 37,
   "id": "003a6ae8",
   "metadata": {},
   "outputs": [],
   "source": [
    "# Convert Handicap int --> bool\n",
    "df['Handicap'] = df['Handicap'].astype(bool)"
   ]
  },
  {
   "cell_type": "code",
   "execution_count": 38,
   "id": "17578ee2",
   "metadata": {},
   "outputs": [],
   "source": [
    "# NoShow: object -> int -> bool \n",
    "\n",
    "# First, convert NoShow from object -> int by replacing No ->0, Yes -> 1\n",
    "df['NoShow'].replace({'No':0, 'Yes':1}, inplace=True)\n",
    "\n",
    "# Then convert NoShow int -> bool\n",
    "df['NoShow'] = df['NoShow'].astype(bool)"
   ]
  },
  {
   "cell_type": "code",
   "execution_count": 39,
   "id": "18287835",
   "metadata": {},
   "outputs": [],
   "source": [
    "# Gender, Neighbourhood: object -> category\n",
    "for c in ['Gender', 'Neighbourhood']:\n",
    "    df[c] = df[c].astype('category')"
   ]
  },
  {
   "cell_type": "code",
   "execution_count": 40,
   "id": "604c9c8e",
   "metadata": {},
   "outputs": [
    {
     "data": {
      "text/plain": [
       "PatientID                       int64\n",
       "AppointmentID                   int64\n",
       "Gender                       category\n",
       "ScheduledDay      datetime64[ns, UTC]\n",
       "AppointmentDay    datetime64[ns, UTC]\n",
       "Age                             int64\n",
       "Neighbourhood                category\n",
       "Scholarship                      bool\n",
       "Hypertension                     bool\n",
       "Diabetes                         bool\n",
       "Alcoholism                       bool\n",
       "Handicap                         bool\n",
       "SMSReceived                      bool\n",
       "NoShow                           bool\n",
       "dtype: object"
      ]
     },
     "execution_count": 40,
     "metadata": {},
     "output_type": "execute_result"
    }
   ],
   "source": [
    "# Confirm changes in data types were made\n",
    "df.dtypes"
   ]
  },
  {
   "cell_type": "code",
   "execution_count": 41,
   "id": "4bc702d6",
   "metadata": {},
   "outputs": [
    {
     "data": {
      "text/html": [
       "<div>\n",
       "<style scoped>\n",
       "    .dataframe tbody tr th:only-of-type {\n",
       "        vertical-align: middle;\n",
       "    }\n",
       "\n",
       "    .dataframe tbody tr th {\n",
       "        vertical-align: top;\n",
       "    }\n",
       "\n",
       "    .dataframe thead th {\n",
       "        text-align: right;\n",
       "    }\n",
       "</style>\n",
       "<table border=\"1\" class=\"dataframe\">\n",
       "  <thead>\n",
       "    <tr style=\"text-align: right;\">\n",
       "      <th></th>\n",
       "      <th>PatientID</th>\n",
       "      <th>AppointmentID</th>\n",
       "      <th>Gender</th>\n",
       "      <th>ScheduledDay</th>\n",
       "      <th>AppointmentDay</th>\n",
       "      <th>Age</th>\n",
       "      <th>Neighbourhood</th>\n",
       "      <th>Scholarship</th>\n",
       "      <th>Hypertension</th>\n",
       "      <th>Diabetes</th>\n",
       "      <th>Alcoholism</th>\n",
       "      <th>Handicap</th>\n",
       "      <th>SMSReceived</th>\n",
       "      <th>NoShow</th>\n",
       "    </tr>\n",
       "  </thead>\n",
       "  <tbody>\n",
       "    <tr>\n",
       "      <th>0</th>\n",
       "      <td>29872499824296</td>\n",
       "      <td>5642903</td>\n",
       "      <td>F</td>\n",
       "      <td>2016-04-29 18:38:08+00:00</td>\n",
       "      <td>2016-04-29 00:00:00+00:00</td>\n",
       "      <td>62</td>\n",
       "      <td>JARDIM DA PENHA</td>\n",
       "      <td>False</td>\n",
       "      <td>True</td>\n",
       "      <td>False</td>\n",
       "      <td>False</td>\n",
       "      <td>False</td>\n",
       "      <td>False</td>\n",
       "      <td>False</td>\n",
       "    </tr>\n",
       "    <tr>\n",
       "      <th>1</th>\n",
       "      <td>558997776694438</td>\n",
       "      <td>5642503</td>\n",
       "      <td>M</td>\n",
       "      <td>2016-04-29 16:08:27+00:00</td>\n",
       "      <td>2016-04-29 00:00:00+00:00</td>\n",
       "      <td>56</td>\n",
       "      <td>JARDIM DA PENHA</td>\n",
       "      <td>False</td>\n",
       "      <td>False</td>\n",
       "      <td>False</td>\n",
       "      <td>False</td>\n",
       "      <td>False</td>\n",
       "      <td>False</td>\n",
       "      <td>False</td>\n",
       "    </tr>\n",
       "    <tr>\n",
       "      <th>2</th>\n",
       "      <td>4262962299951</td>\n",
       "      <td>5642549</td>\n",
       "      <td>F</td>\n",
       "      <td>2016-04-29 16:19:04+00:00</td>\n",
       "      <td>2016-04-29 00:00:00+00:00</td>\n",
       "      <td>62</td>\n",
       "      <td>MATA DA PRAIA</td>\n",
       "      <td>False</td>\n",
       "      <td>False</td>\n",
       "      <td>False</td>\n",
       "      <td>False</td>\n",
       "      <td>False</td>\n",
       "      <td>False</td>\n",
       "      <td>False</td>\n",
       "    </tr>\n",
       "    <tr>\n",
       "      <th>3</th>\n",
       "      <td>867951213174</td>\n",
       "      <td>5642828</td>\n",
       "      <td>F</td>\n",
       "      <td>2016-04-29 17:29:31+00:00</td>\n",
       "      <td>2016-04-29 00:00:00+00:00</td>\n",
       "      <td>8</td>\n",
       "      <td>PONTAL DE CAMBURI</td>\n",
       "      <td>False</td>\n",
       "      <td>False</td>\n",
       "      <td>False</td>\n",
       "      <td>False</td>\n",
       "      <td>False</td>\n",
       "      <td>False</td>\n",
       "      <td>False</td>\n",
       "    </tr>\n",
       "    <tr>\n",
       "      <th>4</th>\n",
       "      <td>8841186448183</td>\n",
       "      <td>5642494</td>\n",
       "      <td>F</td>\n",
       "      <td>2016-04-29 16:07:23+00:00</td>\n",
       "      <td>2016-04-29 00:00:00+00:00</td>\n",
       "      <td>56</td>\n",
       "      <td>JARDIM DA PENHA</td>\n",
       "      <td>False</td>\n",
       "      <td>True</td>\n",
       "      <td>True</td>\n",
       "      <td>False</td>\n",
       "      <td>False</td>\n",
       "      <td>False</td>\n",
       "      <td>False</td>\n",
       "    </tr>\n",
       "  </tbody>\n",
       "</table>\n",
       "</div>"
      ],
      "text/plain": [
       "         PatientID  AppointmentID Gender              ScheduledDay  \\\n",
       "0   29872499824296        5642903      F 2016-04-29 18:38:08+00:00   \n",
       "1  558997776694438        5642503      M 2016-04-29 16:08:27+00:00   \n",
       "2    4262962299951        5642549      F 2016-04-29 16:19:04+00:00   \n",
       "3     867951213174        5642828      F 2016-04-29 17:29:31+00:00   \n",
       "4    8841186448183        5642494      F 2016-04-29 16:07:23+00:00   \n",
       "\n",
       "             AppointmentDay  Age      Neighbourhood  Scholarship  \\\n",
       "0 2016-04-29 00:00:00+00:00   62    JARDIM DA PENHA        False   \n",
       "1 2016-04-29 00:00:00+00:00   56    JARDIM DA PENHA        False   \n",
       "2 2016-04-29 00:00:00+00:00   62      MATA DA PRAIA        False   \n",
       "3 2016-04-29 00:00:00+00:00    8  PONTAL DE CAMBURI        False   \n",
       "4 2016-04-29 00:00:00+00:00   56    JARDIM DA PENHA        False   \n",
       "\n",
       "   Hypertension  Diabetes  Alcoholism  Handicap  SMSReceived  NoShow  \n",
       "0          True     False       False     False        False   False  \n",
       "1         False     False       False     False        False   False  \n",
       "2         False     False       False     False        False   False  \n",
       "3         False     False       False     False        False   False  \n",
       "4          True      True       False     False        False   False  "
      ]
     },
     "execution_count": 41,
     "metadata": {},
     "output_type": "execute_result"
    }
   ],
   "source": [
    "df.head(5)"
   ]
  },
  {
   "cell_type": "markdown",
   "id": "12385855",
   "metadata": {},
   "source": [
    "> **Note:** In my opinion, *AppointmentId* doesn't bring any extra benefits/ insights to the analysis, so it can be dropped out from the dataset."
   ]
  },
  {
   "cell_type": "code",
   "execution_count": 42,
   "id": "eb7d8936",
   "metadata": {},
   "outputs": [],
   "source": [
    "# Dropping AppointmentID column:\n",
    "df.drop(['AppointmentID'], axis=1, inplace=True)"
   ]
  },
  {
   "cell_type": "code",
   "execution_count": 43,
   "id": "8a1d8190",
   "metadata": {},
   "outputs": [
    {
     "data": {
      "text/html": [
       "<div>\n",
       "<style scoped>\n",
       "    .dataframe tbody tr th:only-of-type {\n",
       "        vertical-align: middle;\n",
       "    }\n",
       "\n",
       "    .dataframe tbody tr th {\n",
       "        vertical-align: top;\n",
       "    }\n",
       "\n",
       "    .dataframe thead th {\n",
       "        text-align: right;\n",
       "    }\n",
       "</style>\n",
       "<table border=\"1\" class=\"dataframe\">\n",
       "  <thead>\n",
       "    <tr style=\"text-align: right;\">\n",
       "      <th></th>\n",
       "      <th>PatientID</th>\n",
       "      <th>Gender</th>\n",
       "      <th>ScheduledDay</th>\n",
       "      <th>AppointmentDay</th>\n",
       "      <th>Age</th>\n",
       "      <th>Neighbourhood</th>\n",
       "      <th>Scholarship</th>\n",
       "      <th>Hypertension</th>\n",
       "      <th>Diabetes</th>\n",
       "      <th>Alcoholism</th>\n",
       "      <th>Handicap</th>\n",
       "      <th>SMSReceived</th>\n",
       "      <th>NoShow</th>\n",
       "    </tr>\n",
       "  </thead>\n",
       "  <tbody>\n",
       "    <tr>\n",
       "      <th>0</th>\n",
       "      <td>29872499824296</td>\n",
       "      <td>F</td>\n",
       "      <td>2016-04-29 18:38:08+00:00</td>\n",
       "      <td>2016-04-29 00:00:00+00:00</td>\n",
       "      <td>62</td>\n",
       "      <td>JARDIM DA PENHA</td>\n",
       "      <td>False</td>\n",
       "      <td>True</td>\n",
       "      <td>False</td>\n",
       "      <td>False</td>\n",
       "      <td>False</td>\n",
       "      <td>False</td>\n",
       "      <td>False</td>\n",
       "    </tr>\n",
       "    <tr>\n",
       "      <th>1</th>\n",
       "      <td>558997776694438</td>\n",
       "      <td>M</td>\n",
       "      <td>2016-04-29 16:08:27+00:00</td>\n",
       "      <td>2016-04-29 00:00:00+00:00</td>\n",
       "      <td>56</td>\n",
       "      <td>JARDIM DA PENHA</td>\n",
       "      <td>False</td>\n",
       "      <td>False</td>\n",
       "      <td>False</td>\n",
       "      <td>False</td>\n",
       "      <td>False</td>\n",
       "      <td>False</td>\n",
       "      <td>False</td>\n",
       "    </tr>\n",
       "    <tr>\n",
       "      <th>2</th>\n",
       "      <td>4262962299951</td>\n",
       "      <td>F</td>\n",
       "      <td>2016-04-29 16:19:04+00:00</td>\n",
       "      <td>2016-04-29 00:00:00+00:00</td>\n",
       "      <td>62</td>\n",
       "      <td>MATA DA PRAIA</td>\n",
       "      <td>False</td>\n",
       "      <td>False</td>\n",
       "      <td>False</td>\n",
       "      <td>False</td>\n",
       "      <td>False</td>\n",
       "      <td>False</td>\n",
       "      <td>False</td>\n",
       "    </tr>\n",
       "    <tr>\n",
       "      <th>3</th>\n",
       "      <td>867951213174</td>\n",
       "      <td>F</td>\n",
       "      <td>2016-04-29 17:29:31+00:00</td>\n",
       "      <td>2016-04-29 00:00:00+00:00</td>\n",
       "      <td>8</td>\n",
       "      <td>PONTAL DE CAMBURI</td>\n",
       "      <td>False</td>\n",
       "      <td>False</td>\n",
       "      <td>False</td>\n",
       "      <td>False</td>\n",
       "      <td>False</td>\n",
       "      <td>False</td>\n",
       "      <td>False</td>\n",
       "    </tr>\n",
       "    <tr>\n",
       "      <th>4</th>\n",
       "      <td>8841186448183</td>\n",
       "      <td>F</td>\n",
       "      <td>2016-04-29 16:07:23+00:00</td>\n",
       "      <td>2016-04-29 00:00:00+00:00</td>\n",
       "      <td>56</td>\n",
       "      <td>JARDIM DA PENHA</td>\n",
       "      <td>False</td>\n",
       "      <td>True</td>\n",
       "      <td>True</td>\n",
       "      <td>False</td>\n",
       "      <td>False</td>\n",
       "      <td>False</td>\n",
       "      <td>False</td>\n",
       "    </tr>\n",
       "  </tbody>\n",
       "</table>\n",
       "</div>"
      ],
      "text/plain": [
       "         PatientID Gender              ScheduledDay            AppointmentDay  \\\n",
       "0   29872499824296      F 2016-04-29 18:38:08+00:00 2016-04-29 00:00:00+00:00   \n",
       "1  558997776694438      M 2016-04-29 16:08:27+00:00 2016-04-29 00:00:00+00:00   \n",
       "2    4262962299951      F 2016-04-29 16:19:04+00:00 2016-04-29 00:00:00+00:00   \n",
       "3     867951213174      F 2016-04-29 17:29:31+00:00 2016-04-29 00:00:00+00:00   \n",
       "4    8841186448183      F 2016-04-29 16:07:23+00:00 2016-04-29 00:00:00+00:00   \n",
       "\n",
       "   Age      Neighbourhood  Scholarship  Hypertension  Diabetes  Alcoholism  \\\n",
       "0   62    JARDIM DA PENHA        False          True     False       False   \n",
       "1   56    JARDIM DA PENHA        False         False     False       False   \n",
       "2   62      MATA DA PRAIA        False         False     False       False   \n",
       "3    8  PONTAL DE CAMBURI        False         False     False       False   \n",
       "4   56    JARDIM DA PENHA        False          True      True       False   \n",
       "\n",
       "   Handicap  SMSReceived  NoShow  \n",
       "0     False        False   False  \n",
       "1     False        False   False  \n",
       "2     False        False   False  \n",
       "3     False        False   False  \n",
       "4     False        False   False  "
      ]
     },
     "execution_count": 43,
     "metadata": {},
     "output_type": "execute_result"
    }
   ],
   "source": [
    "# Confirm the change was made\n",
    "df.head(5)"
   ]
  },
  {
   "cell_type": "markdown",
   "id": "5801b6b0",
   "metadata": {},
   "source": [
    "> **Note:** Since the AppointmentID columns was just dropped out, it's important to check if there's any duplicate values in the updated dataset."
   ]
  },
  {
   "cell_type": "code",
   "execution_count": 44,
   "id": "15d24f33",
   "metadata": {},
   "outputs": [
    {
     "data": {
      "text/plain": [
       "618"
      ]
     },
     "execution_count": 44,
     "metadata": {},
     "output_type": "execute_result"
    }
   ],
   "source": [
    "# Check for duplicates\n",
    "df.duplicated().sum()"
   ]
  },
  {
   "cell_type": "markdown",
   "id": "eceb58e7",
   "metadata": {},
   "source": [
    "> **Note:** As we can see, there is **618 duplicates** after dropping the *AppointmentID* columns. However, the reason for these duplicates could be that there are patients called to book different appointments at the same time and having different medical appointments at the same appointment day. Because of this, I will keep the duplicates in my analysis and these duplicates will be seen as seperate appointments."
   ]
  },
  {
   "cell_type": "markdown",
   "id": "e54288f2",
   "metadata": {},
   "source": [
    "<a id='eda'></a>\n",
    "\n",
    "## Exploratory Data Analysis\n",
    "\n",
    " Let's start our exploration by finding answers for these following questions:\n",
    "- **Q1:** Which gender (M/F) accounts for more absent appointments?\n",
    "- **Q2:** How long in average does it take between the ScheduledDay and AppointmentDay? Does the length of the waiting period affect to the decision of the patients who decided to not show up for their appointments?\n",
    "- **Q3:** Which age range has the highest percentage for no show-up appointments?\n",
    "- **Q4:** How does the distribution of no show-up appointments in different neighbourhood look like? Which are the top 3 neighbourhood with no show-up appointments?\n",
    "- **Q5:** How do other factors (scholarship, hypertension, diabetes, alcoholism, handicap) affect to the shown-up/no shown-up rate of the patients?\n",
    "- **Q6:** Would sending SMS messages to the patients affect to the shown-up/no shown-up rate of the patients?"
   ]
  },
  {
   "cell_type": "markdown",
   "id": "ace02fb4",
   "metadata": {},
   "source": [
    "### Functions used in this part"
   ]
  },
  {
   "cell_type": "code",
   "execution_count": 45,
   "id": "23a6471c",
   "metadata": {},
   "outputs": [],
   "source": [
    "# Function to plot pie chart\n",
    "def pie (a, label, color=['LightPink','LightBlue'], explode=[0,0.1]):\n",
    "    \"\"\"This function is used to plot a pie chart.\n",
    "    \"\"\"\n",
    "    return plt.pie(a,\n",
    "                  labels=label,\n",
    "                  colors=color,\n",
    "                  explode=explode,\n",
    "                  shadow=True,\n",
    "                  autopct='%.2f%%',\n",
    "                  radius=1)"
   ]
  },
  {
   "cell_type": "code",
   "execution_count": 46,
   "id": "55108368",
   "metadata": {},
   "outputs": [],
   "source": [
    "# Function to unstack column (calculate % of present/absent patients With/ Without a certain factor)\n",
    "def unstack (a, b):\n",
    "    \"\"\"This function is used to unstack column and \n",
    "    calculate % of present/absent patients With/ Without X factor.\n",
    "    X factor = e.g. Scholarship, Diabetes, etc.\n",
    "    \"\"\"\n",
    "    return df.groupby(a)[b].value_counts(normalize=True).mul(100).round(2).unstack(a)"
   ]
  },
  {
   "cell_type": "code",
   "execution_count": 47,
   "id": "99dd6a97",
   "metadata": {},
   "outputs": [],
   "source": [
    "# Function to draw bar chart \"Percentage of Present/ Absent Appointments by a certain factor \n",
    "def bar (pct_x):\n",
    "    \"\"\"This function is used to draw bar chart \"Percentage of Present/ Absent Appointments by X factor.\n",
    "    X factor = e.g. Scholarship, Diabetes, etc.\n",
    "    \"\"\"\n",
    "    chart_x = pct_x.plot.bar(edgecolor='black', figsize=[14,8], rot=0, width=0.9, color=['Lightblue','Lightpink'])\n",
    "    return chart_x"
   ]
  },
  {
   "cell_type": "code",
   "execution_count": 48,
   "id": "c601f6ad",
   "metadata": {},
   "outputs": [],
   "source": [
    "# Function to set title to the bar chart\n",
    "def bar_title (fig_x, factor_name):\n",
    "    \"\"\"This function is used to set title for the bar chart created by the above bar() function.\n",
    "    \"\"\"\n",
    "    return fig_x.set_title('Percentage of Present/Absent Appointments by '+ factor_name, fontsize=14)"
   ]
  },
  {
   "cell_type": "code",
   "execution_count": 49,
   "id": "94015a1a",
   "metadata": {},
   "outputs": [
    {
     "data": {
      "text/plain": [
       "False    88208\n",
       "True     22319\n",
       "Name: NoShow, dtype: int64"
      ]
     },
     "execution_count": 49,
     "metadata": {},
     "output_type": "execute_result"
    }
   ],
   "source": [
    "# I will first check how many patients are absent/present for their medical appointments in the dataset\n",
    "show_noshow = explore('NoShow')\n",
    "show_noshow"
   ]
  },
  {
   "cell_type": "code",
   "execution_count": 50,
   "id": "9788145e",
   "metadata": {},
   "outputs": [
    {
     "data": {
      "text/plain": [
       "False    79.81\n",
       "True     20.19\n",
       "Name: NoShow, dtype: float64"
      ]
     },
     "execution_count": 50,
     "metadata": {},
     "output_type": "execute_result"
    }
   ],
   "source": [
    "pct_show_noshow = df['NoShow'].value_counts(normalize=True).mul(100).round(2)\n",
    "pct_show_noshow"
   ]
  },
  {
   "cell_type": "code",
   "execution_count": 51,
   "id": "992c3c95",
   "metadata": {},
   "outputs": [],
   "source": [
    "# Dateframe for ABSENT patients\n",
    "df_noshow = df[df['NoShow']==True]"
   ]
  },
  {
   "cell_type": "code",
   "execution_count": 52,
   "id": "20f49e64",
   "metadata": {},
   "outputs": [],
   "source": [
    "# Dataframe for PRESENT patients\n",
    "df_show = df[df['NoShow']==False]"
   ]
  },
  {
   "cell_type": "markdown",
   "id": "893be88f",
   "metadata": {},
   "source": [
    "### Fig.01: Percentage of Present and Absent Patients for Their Medical Appointments"
   ]
  },
  {
   "cell_type": "code",
   "execution_count": 52,
   "id": "f5311caa",
   "metadata": {},
   "outputs": [],
   "source": [
    "# Another way to plot pie chart\n",
    "#fig_01 = show_noshow.plot(kind='pie', labels= ['Present', 'Absent'],\n",
    "#                          colors= ['Lightblue', 'Lightpink'],explode=[0.1,0],\n",
    "#                          autopct='%1.2f%%', shadow=True, radius=1)\n",
    "#fig_01.set_title('Percentage of Present and Absent Patients for Their Medical Appointments', fontsize=14');"
   ]
  },
  {
   "cell_type": "code",
   "execution_count": 53,
   "id": "960946a2",
   "metadata": {},
   "outputs": [],
   "source": [
    "# Function to set title for the pie chart (mostly used for the analysis of Q5)\n",
    "def pie_title (a):\n",
    "    \"\"\"This function is used to set title for the pie created by the above pie() function.\n",
    "    Mostly used for the analysis of Q5\n",
    "    \"\"\"\n",
    "    return plt.title('Percentage of Patients WITH and WITHOUT '+a, fontsize=14)"
   ]
  },
  {
   "cell_type": "code",
   "execution_count": 54,
   "id": "5ea873e5",
   "metadata": {},
   "outputs": [
    {
     "data": {
      "image/png": "[encoded data removed]",
      "text/plain": [
       "<Figure size 432x288 with 1 Axes>"
      ]
     },
     "metadata": {},
     "output_type": "display_data"
    }
   ],
   "source": [
    "fig_01 = pie(show_noshow, ['Present','Absent'])\n",
    "plt.title('Percentage of Present and Absent Patients for Their Medical Appointments', fontsize=14);"
   ]
  },
  {
   "cell_type": "markdown",
   "id": "8e35c9cd",
   "metadata": {},
   "source": [
    "> **Note:** About **1/4** of the total number of patients are *absent* for their medical appointments (**20.19%**), while the majority of patients (**79.81%**) are *present* for their appointments."
   ]
  },
  {
   "cell_type": "markdown",
   "id": "e4b31bc9",
   "metadata": {},
   "source": [
    "### Q1: Which gender (M/F) accounts for more *absent* appointments?"
   ]
  },
  {
   "cell_type": "code",
   "execution_count": 55,
   "id": "671f5392",
   "metadata": {},
   "outputs": [
    {
     "data": {
      "text/plain": [
       "F    71840\n",
       "M    38687\n",
       "Name: Gender, dtype: int64"
      ]
     },
     "execution_count": 55,
     "metadata": {},
     "output_type": "execute_result"
    }
   ],
   "source": [
    "gender = explore('Gender')\n",
    "gender"
   ]
  },
  {
   "cell_type": "markdown",
   "id": "6c2764d2",
   "metadata": {},
   "source": [
    "### Fig.02: Number of Medical Appointments by Gender"
   ]
  },
  {
   "cell_type": "code",
   "execution_count": 56,
   "id": "8c66dc63",
   "metadata": {},
   "outputs": [
    {
     "data": {
      "image/png": "[encoded data removed]",
      "text/plain": [
       "<Figure size 1008x288 with 1 Axes>"
      ]
     },
     "metadata": {
      "needs_background": "light"
     },
     "output_type": "display_data"
    }
   ],
   "source": [
    "fig_02 = gender.plot.bar(edgecolor='black', figsize=[14,4], rot=0, width=0.8)\n",
    "fig_02.set_title('Number of Medical Appointments by Gender', fontsize=14);"
   ]
  },
  {
   "cell_type": "markdown",
   "id": "6d9ca98b",
   "metadata": {},
   "source": [
    "### Fig.03: Percentage of Medical Appointments by Gender"
   ]
  },
  {
   "cell_type": "code",
   "execution_count": 57,
   "id": "a443b3ea",
   "metadata": {},
   "outputs": [
    {
     "data": {
      "image/png": "[encoded data removed]",
      "text/plain": [
       "<Figure size 432x288 with 1 Axes>"
      ]
     },
     "metadata": {},
     "output_type": "display_data"
    }
   ],
   "source": [
    "# Draw the chart\n",
    "fig_03 = pie(gender,['Female', 'Male'])\n",
    "plt.title('Percentage of Medical Appointments by Gender', fontsize=14);"
   ]
  },
  {
   "cell_type": "markdown",
   "id": "001a71f0",
   "metadata": {},
   "source": [
    "> As we can see *Female* has almost double the number of appointments (**65.00%**) compared to *Male* (**35.00%**)."
   ]
  },
  {
   "cell_type": "code",
   "execution_count": 58,
   "id": "6ab4f4a6",
   "metadata": {},
   "outputs": [
    {
     "data": {
      "text/plain": [
       "F    14594\n",
       "M     7725\n",
       "Name: Gender, dtype: int64"
      ]
     },
     "execution_count": 58,
     "metadata": {},
     "output_type": "execute_result"
    }
   ],
   "source": [
    "# Number of ABSENT appointments per gender\n",
    "noshow_gender = df[df['NoShow']==True]['Gender'].value_counts()\n",
    "noshow_gender\n"
   ]
  },
  {
   "cell_type": "markdown",
   "id": "487ff48d",
   "metadata": {},
   "source": [
    "### Fig.04: Percentage of Absent Appointments by Gender"
   ]
  },
  {
   "cell_type": "code",
   "execution_count": 59,
   "id": "c6127d6c",
   "metadata": {},
   "outputs": [
    {
     "data": {
      "image/png": "[encoded data removed]",
      "text/plain": [
       "<Figure size 432x288 with 1 Axes>"
      ]
     },
     "metadata": {},
     "output_type": "display_data"
    }
   ],
   "source": [
    "fig_04 = pie(noshow_gender,['Absent Female', 'Absent Male'])\n",
    "plt.title('Percentage of Absent Appointments by Gender', fontsize=14);\n"
   ]
  },
  {
   "cell_type": "markdown",
   "id": "315d07af",
   "metadata": {},
   "source": [
    "> The percentage of *Absent* appointments belongs to *Female* patients (**65.39%**) is almost double that of *Male* patients. However, we also need to keep in mind that *Female* has **almost double** the total amount of appointments booked (**71,840** appointments) compared to *Male* (**38,687** appointments). Since *Female* has more booked appointments than *Male*, therefore, that could be one reason why the number of *absent appointments* generated by *Female* is higher than that of *Male* patients."
   ]
  },
  {
   "cell_type": "code",
   "execution_count": 60,
   "id": "c26905c4",
   "metadata": {},
   "outputs": [
    {
     "data": {
      "text/html": [
       "<div>\n",
       "<style scoped>\n",
       "    .dataframe tbody tr th:only-of-type {\n",
       "        vertical-align: middle;\n",
       "    }\n",
       "\n",
       "    .dataframe tbody tr th {\n",
       "        vertical-align: top;\n",
       "    }\n",
       "\n",
       "    .dataframe thead th {\n",
       "        text-align: right;\n",
       "    }\n",
       "</style>\n",
       "<table border=\"1\" class=\"dataframe\">\n",
       "  <thead>\n",
       "    <tr style=\"text-align: right;\">\n",
       "      <th>Gender</th>\n",
       "      <th>F</th>\n",
       "      <th>M</th>\n",
       "    </tr>\n",
       "    <tr>\n",
       "      <th>NoShow</th>\n",
       "      <th></th>\n",
       "      <th></th>\n",
       "    </tr>\n",
       "  </thead>\n",
       "  <tbody>\n",
       "    <tr>\n",
       "      <th>False</th>\n",
       "      <td>79.69</td>\n",
       "      <td>80.03</td>\n",
       "    </tr>\n",
       "    <tr>\n",
       "      <th>True</th>\n",
       "      <td>20.31</td>\n",
       "      <td>19.97</td>\n",
       "    </tr>\n",
       "  </tbody>\n",
       "</table>\n",
       "</div>"
      ],
      "text/plain": [
       "Gender      F      M\n",
       "NoShow              \n",
       "False   79.69  80.03\n",
       "True    20.31  19.97"
      ]
     },
     "execution_count": 60,
     "metadata": {},
     "output_type": "execute_result"
    }
   ],
   "source": [
    "# Percentage of present/absent appointments by Gender\n",
    "pct_gender = unstack('Gender', 'NoShow')\n",
    "pct_gender"
   ]
  },
  {
   "cell_type": "markdown",
   "id": "2eec0ce6",
   "metadata": {},
   "source": [
    "### Fig.05: Percentage of Present/ Absent Appointments by Gender "
   ]
  },
  {
   "cell_type": "code",
   "execution_count": 61,
   "id": "5f0e3df4",
   "metadata": {},
   "outputs": [
    {
     "data": {
      "image/png": "[encoded data removed]",
      "text/plain": [
       "<Figure size 1008x576 with 1 Axes>"
      ]
     },
     "metadata": {
      "needs_background": "light"
     },
     "output_type": "display_data"
    }
   ],
   "source": [
    "# Draw the chart\n",
    "fig_05 = bar(pct_gender)\n",
    "bar_title(fig_05,'Gender');    "
   ]
  },
  {
   "cell_type": "markdown",
   "id": "fcaf2dfb",
   "metadata": {},
   "source": [
    "> As we can see from *fig.05*, the percentage of *Absent Female* out of the total number of *Female* patients is about **the same** with that of *Male* patients, **20.31%** and **19.97%** respectively. \n",
    "\n",
    "> **Q1: Which gender (M/F) accounts for more *absent* appointments?**\n",
    ">\n",
    "> In general, **65.39%** of the *absent* appointments belongs to *Female* patients, while **35.61%** is of *Male* patients. However, *Female* has **almost double** the total amount of appointments booked (**71,840** appointments) compared to *Male* (**38,687** appointments). Since Female has more booked appointments than Male in general, therefore, that could be one reason why the numbers of absent appointments generated by Female is higher than that of Male patients. If we only consider the *absent* rate out of the total number of appointments each gender, then *Female* and *Male* have about **the same** *absent* rate, **20.31%** and **19.97%** respectively."
   ]
  },
  {
   "cell_type": "markdown",
   "id": "384a492c",
   "metadata": {},
   "source": [
    "### Q2: How long in average does it take between the ScheduledDay and AppointmentDay? Does the length of the waiting period affect to the decision of the patients who decided to not show up for their appointments?"
   ]
  },
  {
   "cell_type": "code",
   "execution_count": 62,
   "id": "cf71df57",
   "metadata": {},
   "outputs": [
    {
     "data": {
      "text/plain": [
       "count                        110527\n",
       "mean      9 days 17:08:34.161960425\n",
       "std      15 days 05:51:27.891504122\n",
       "min               -7 days +10:10:40\n",
       "25%        -1 days +15:41:31.500000\n",
       "50%                 3 days 11:22:18\n",
       "75%         14 days 07:41:34.500000\n",
       "max               178 days 13:19:01\n",
       "dtype: object"
      ]
     },
     "execution_count": 62,
     "metadata": {},
     "output_type": "execute_result"
    }
   ],
   "source": [
    "# Calculate the number of days between ScheduledDay and AppointmentDay\n",
    "date_diff = df['AppointmentDay'] - df['ScheduledDay']\n",
    "date_diff = pd.to_timedelta(date_diff,'D')\n",
    "date_diff.describe()"
   ]
  },
  {
   "cell_type": "markdown",
   "id": "40da4eee",
   "metadata": {},
   "source": [
    "> **Note:** The **average** waiting day between the ScheduledDay and AppointmentDay is **9** days. The minimum waiting day is **-7** days (*there might be some mistakes --> need to be checked*), and the maximum waiting day is **178** days."
   ]
  },
  {
   "cell_type": "code",
   "execution_count": 63,
   "id": "41514577",
   "metadata": {},
   "outputs": [],
   "source": [
    "# Extract only the number of days from date_diff\n",
    "date_diff = round(date_diff/np.timedelta64(1, 'D')).astype(int)"
   ]
  },
  {
   "cell_type": "code",
   "execution_count": 64,
   "id": "b6a800fe",
   "metadata": {},
   "outputs": [],
   "source": [
    "# Add new column DateDiff to our dataframe\n",
    "df['DateDiff'] = date_diff"
   ]
  },
  {
   "cell_type": "code",
   "execution_count": 65,
   "id": "d3b8a6d8",
   "metadata": {},
   "outputs": [
    {
     "data": {
      "text/html": [
       "<div>\n",
       "<style scoped>\n",
       "    .dataframe tbody tr th:only-of-type {\n",
       "        vertical-align: middle;\n",
       "    }\n",
       "\n",
       "    .dataframe tbody tr th {\n",
       "        vertical-align: top;\n",
       "    }\n",
       "\n",
       "    .dataframe thead th {\n",
       "        text-align: right;\n",
       "    }\n",
       "</style>\n",
       "<table border=\"1\" class=\"dataframe\">\n",
       "  <thead>\n",
       "    <tr style=\"text-align: right;\">\n",
       "      <th></th>\n",
       "      <th>PatientID</th>\n",
       "      <th>Gender</th>\n",
       "      <th>ScheduledDay</th>\n",
       "      <th>AppointmentDay</th>\n",
       "      <th>Age</th>\n",
       "      <th>Neighbourhood</th>\n",
       "      <th>Scholarship</th>\n",
       "      <th>Hypertension</th>\n",
       "      <th>Diabetes</th>\n",
       "      <th>Alcoholism</th>\n",
       "      <th>Handicap</th>\n",
       "      <th>SMSReceived</th>\n",
       "      <th>NoShow</th>\n",
       "      <th>DateDiff</th>\n",
       "    </tr>\n",
       "  </thead>\n",
       "  <tbody>\n",
       "    <tr>\n",
       "      <th>0</th>\n",
       "      <td>29872499824296</td>\n",
       "      <td>F</td>\n",
       "      <td>2016-04-29 18:38:08+00:00</td>\n",
       "      <td>2016-04-29 00:00:00+00:00</td>\n",
       "      <td>62</td>\n",
       "      <td>JARDIM DA PENHA</td>\n",
       "      <td>False</td>\n",
       "      <td>True</td>\n",
       "      <td>False</td>\n",
       "      <td>False</td>\n",
       "      <td>False</td>\n",
       "      <td>False</td>\n",
       "      <td>False</td>\n",
       "      <td>-1</td>\n",
       "    </tr>\n",
       "    <tr>\n",
       "      <th>1</th>\n",
       "      <td>558997776694438</td>\n",
       "      <td>M</td>\n",
       "      <td>2016-04-29 16:08:27+00:00</td>\n",
       "      <td>2016-04-29 00:00:00+00:00</td>\n",
       "      <td>56</td>\n",
       "      <td>JARDIM DA PENHA</td>\n",
       "      <td>False</td>\n",
       "      <td>False</td>\n",
       "      <td>False</td>\n",
       "      <td>False</td>\n",
       "      <td>False</td>\n",
       "      <td>False</td>\n",
       "      <td>False</td>\n",
       "      <td>-1</td>\n",
       "    </tr>\n",
       "    <tr>\n",
       "      <th>2</th>\n",
       "      <td>4262962299951</td>\n",
       "      <td>F</td>\n",
       "      <td>2016-04-29 16:19:04+00:00</td>\n",
       "      <td>2016-04-29 00:00:00+00:00</td>\n",
       "      <td>62</td>\n",
       "      <td>MATA DA PRAIA</td>\n",
       "      <td>False</td>\n",
       "      <td>False</td>\n",
       "      <td>False</td>\n",
       "      <td>False</td>\n",
       "      <td>False</td>\n",
       "      <td>False</td>\n",
       "      <td>False</td>\n",
       "      <td>-1</td>\n",
       "    </tr>\n",
       "    <tr>\n",
       "      <th>3</th>\n",
       "      <td>867951213174</td>\n",
       "      <td>F</td>\n",
       "      <td>2016-04-29 17:29:31+00:00</td>\n",
       "      <td>2016-04-29 00:00:00+00:00</td>\n",
       "      <td>8</td>\n",
       "      <td>PONTAL DE CAMBURI</td>\n",
       "      <td>False</td>\n",
       "      <td>False</td>\n",
       "      <td>False</td>\n",
       "      <td>False</td>\n",
       "      <td>False</td>\n",
       "      <td>False</td>\n",
       "      <td>False</td>\n",
       "      <td>-1</td>\n",
       "    </tr>\n",
       "    <tr>\n",
       "      <th>4</th>\n",
       "      <td>8841186448183</td>\n",
       "      <td>F</td>\n",
       "      <td>2016-04-29 16:07:23+00:00</td>\n",
       "      <td>2016-04-29 00:00:00+00:00</td>\n",
       "      <td>56</td>\n",
       "      <td>JARDIM DA PENHA</td>\n",
       "      <td>False</td>\n",
       "      <td>True</td>\n",
       "      <td>True</td>\n",
       "      <td>False</td>\n",
       "      <td>False</td>\n",
       "      <td>False</td>\n",
       "      <td>False</td>\n",
       "      <td>-1</td>\n",
       "    </tr>\n",
       "  </tbody>\n",
       "</table>\n",
       "</div>"
      ],
      "text/plain": [
       "         PatientID Gender              ScheduledDay            AppointmentDay  \\\n",
       "0   29872499824296      F 2016-04-29 18:38:08+00:00 2016-04-29 00:00:00+00:00   \n",
       "1  558997776694438      M 2016-04-29 16:08:27+00:00 2016-04-29 00:00:00+00:00   \n",
       "2    4262962299951      F 2016-04-29 16:19:04+00:00 2016-04-29 00:00:00+00:00   \n",
       "3     867951213174      F 2016-04-29 17:29:31+00:00 2016-04-29 00:00:00+00:00   \n",
       "4    8841186448183      F 2016-04-29 16:07:23+00:00 2016-04-29 00:00:00+00:00   \n",
       "\n",
       "   Age      Neighbourhood  Scholarship  Hypertension  Diabetes  Alcoholism  \\\n",
       "0   62    JARDIM DA PENHA        False          True     False       False   \n",
       "1   56    JARDIM DA PENHA        False         False     False       False   \n",
       "2   62      MATA DA PRAIA        False         False     False       False   \n",
       "3    8  PONTAL DE CAMBURI        False         False     False       False   \n",
       "4   56    JARDIM DA PENHA        False          True      True       False   \n",
       "\n",
       "   Handicap  SMSReceived  NoShow  DateDiff  \n",
       "0     False        False   False        -1  \n",
       "1     False        False   False        -1  \n",
       "2     False        False   False        -1  \n",
       "3     False        False   False        -1  \n",
       "4     False        False   False        -1  "
      ]
     },
     "execution_count": 65,
     "metadata": {},
     "output_type": "execute_result"
    }
   ],
   "source": [
    "# Check if the new column DateDiff was added\n",
    "df.head()"
   ]
  },
  {
   "cell_type": "code",
   "execution_count": 66,
   "id": "fb607f41",
   "metadata": {},
   "outputs": [
    {
     "data": {
      "text/plain": [
       "count    110527.000000\n",
       "mean          9.803297\n",
       "std          15.238508\n",
       "min          -7.000000\n",
       "25%           0.000000\n",
       "50%           3.000000\n",
       "75%          14.000000\n",
       "max         179.000000\n",
       "Name: DateDiff, dtype: float64"
      ]
     },
     "execution_count": 66,
     "metadata": {},
     "output_type": "execute_result"
    }
   ],
   "source": [
    "df['DateDiff'].describe()"
   ]
  },
  {
   "cell_type": "markdown",
   "id": "50a32d71",
   "metadata": {},
   "source": [
    "> **Note:** As we can see, there's **minus date difference** in the calculation between the *ScheduledDay* and *AppointmentDay*. In reality, it is *impossible* for the minus figures to happen because the AppoinmentDay is always after/ or at the same date as the ScheduledDay, therefore, the DateDiff cannot be minus. For this reason, all the minus DateDiff figures will need to bechanged to 0 since there must be errors in the data.\n",
    ">\n",
    ">The reason causing the minus figures (*especially the DateDiff = -1 cases*) is because the ScheduledDay in the data including the time (e.g. 16:19:04+00:00), while the AppointmentDay does not (e.g. 00:00:00+00:00). That's why when the *AppoinmentDay* happens at the same date as the *ScheduledDay*, it results in the DateDiff = -1."
   ]
  },
  {
   "cell_type": "code",
   "execution_count": 67,
   "id": "4e72d789",
   "metadata": {},
   "outputs": [
    {
     "data": {
      "text/plain": [
       "12161"
      ]
     },
     "execution_count": 67,
     "metadata": {},
     "output_type": "execute_result"
    }
   ],
   "source": [
    "len(df.query('DateDiff < 0'))"
   ]
  },
  {
   "cell_type": "markdown",
   "id": "dff0aa88",
   "metadata": {},
   "source": [
    "> **Note:** There are in total **12,161** appointments that have *minus* DateDiff."
   ]
  },
  {
   "cell_type": "code",
   "execution_count": 68,
   "id": "07be93a1",
   "metadata": {},
   "outputs": [
    {
     "data": {
      "text/plain": [
       "5290"
      ]
     },
     "execution_count": 68,
     "metadata": {},
     "output_type": "execute_result"
    }
   ],
   "source": [
    "len(df.query('DateDiff == 1'))"
   ]
  },
  {
   "cell_type": "markdown",
   "id": "9b14f1f9",
   "metadata": {},
   "source": [
    "> **Note:** There are **12,158** appointments that have *-1* DateDiff. These appointment must have the *AppoimentDay* happens in the same date as the *ScheduledDay*."
   ]
  },
  {
   "cell_type": "code",
   "execution_count": 69,
   "id": "402620ac",
   "metadata": {},
   "outputs": [
    {
     "data": {
      "text/plain": [
       "3"
      ]
     },
     "execution_count": 69,
     "metadata": {},
     "output_type": "execute_result"
    }
   ],
   "source": [
    "len(df.query('DateDiff < -1'))"
   ]
  },
  {
   "cell_type": "markdown",
   "id": "bdeca972",
   "metadata": {},
   "source": [
    "> **Note:** There are **3** appointments that have *more than -1* DateDiff. These must be errors in the data since it is not possible for the **actual** *AppointmentDay* to be happenned before it can be scheduled in the *ScheduledDate*."
   ]
  },
  {
   "cell_type": "code",
   "execution_count": 70,
   "id": "4f478839",
   "metadata": {},
   "outputs": [],
   "source": [
    "# Fix all the minus DateDiff figures to 0\n",
    "df['DateDiff'] = df['DateDiff'].clip(lower=0)"
   ]
  },
  {
   "cell_type": "code",
   "execution_count": 71,
   "id": "6e9c50d7",
   "metadata": {},
   "outputs": [
    {
     "data": {
      "text/plain": [
       "0"
      ]
     },
     "execution_count": 71,
     "metadata": {},
     "output_type": "execute_result"
    }
   ],
   "source": [
    "# Check if all minus DateDiff were changed to 0\n",
    "len(df.query('DateDiff < 0'))"
   ]
  },
  {
   "cell_type": "code",
   "execution_count": 72,
   "id": "89927fa4",
   "metadata": {},
   "outputs": [
    {
     "data": {
      "text/plain": [
       "count    110527.000000\n",
       "mean          9.913397\n",
       "std          15.163468\n",
       "min           0.000000\n",
       "25%           0.000000\n",
       "50%           3.000000\n",
       "75%          14.000000\n",
       "max         179.000000\n",
       "Name: DateDiff, dtype: float64"
      ]
     },
     "execution_count": 72,
     "metadata": {},
     "output_type": "execute_result"
    }
   ],
   "source": [
    "df['DateDiff'].describe()"
   ]
  },
  {
   "cell_type": "markdown",
   "id": "42f4e4e7",
   "metadata": {},
   "source": [
    "### Fig.06: Distribution of Waiting Days Between the Scheduled Date and Appoinment Date"
   ]
  },
  {
   "cell_type": "code",
   "execution_count": 73,
   "id": "ea7197f8",
   "metadata": {},
   "outputs": [
    {
     "data": {
      "image/png": "[encoded data removed]",
      "text/plain": [
       "<Figure size 648x432 with 1 Axes>"
      ]
     },
     "metadata": {
      "needs_background": "light"
     },
     "output_type": "display_data"
    }
   ],
   "source": [
    "df['DateDiff'].hist(bins=50, color='purple',figsize=(9,6))\n",
    "plt.xlabel('Number of Days between Scheduled Date and Appointment Date')\n",
    "plt.ylabel('Number od Appointments')\n",
    "plt.title('Distribution of Waiting Days Between the Scheduled Date and Appoinment Date')\n",
    "plt.show()"
   ]
  },
  {
   "cell_type": "markdown",
   "id": "e58ec5a2",
   "metadata": {},
   "source": [
    "> From *fig.06*, we can see that the majority of appointments has the ScheduledDay and AppointmentDay at the same date (DateDiff = 0)"
   ]
  },
  {
   "cell_type": "markdown",
   "id": "48ac85b3",
   "metadata": {},
   "source": [
    "##### Next step, I will divide the number of days between the ScheduledDay and AppointmentDay into five different categories:\n",
    "    - DateDiff = 0 day: SameDay\n",
    "    - DateDiff = 1-4 days: 1-4Days\n",
    "    - DateDiff = 5-10 days: 5-10Days\n",
    "    - DateDiff = 11-15 days : 11-15Days\n",
    "    - DateDiff > 15 days: >15Days\n",
    "##### In this way, it would be much easier to see which category will have the highest not shown-up appointment, so that we can draw insight into how the waiting duration can affect the patient's decision on whether to show-up or not show-up for their medical appointments."
   ]
  },
  {
   "cell_type": "code",
   "execution_count": 74,
   "id": "16720fa6",
   "metadata": {},
   "outputs": [],
   "source": [
    "# Divide waiting duration into 5 categories and store it in new dataframe\n",
    "bin_edges = [-0.1, 0.1, 4, 10, 15, 179]\n",
    "bin_labels = ['SameDay', '1-4Days', '5-10Days', '11-15Days', '>15Days']\n",
    "df['DurationCategory'] = pd.cut(df['DateDiff'], bin_edges, labels=bin_labels)"
   ]
  },
  {
   "cell_type": "code",
   "execution_count": 75,
   "id": "0115bfe1",
   "metadata": {},
   "outputs": [
    {
     "data": {
      "text/plain": [
       "SameDay      40972\n",
       ">15Days      25801\n",
       "1-4Days      18974\n",
       "5-10Days     16597\n",
       "11-15Days     8183\n",
       "Name: DurationCategory, dtype: int64"
      ]
     },
     "execution_count": 75,
     "metadata": {},
     "output_type": "execute_result"
    }
   ],
   "source": [
    "# Number of apppointments by Waiting Duration\n",
    "duration = explore('DurationCategory')\n",
    "duration"
   ]
  },
  {
   "cell_type": "markdown",
   "id": "bcae6b35",
   "metadata": {},
   "source": [
    "### Fig. 07: Percentage of Appointments by Waiting Duration Category"
   ]
  },
  {
   "cell_type": "code",
   "execution_count": 76,
   "id": "1ca40cf2",
   "metadata": {},
   "outputs": [
    {
     "data": {
      "image/png": "[encoded data removed]",
      "text/plain": [
       "<Figure size 432x288 with 1 Axes>"
      ]
     },
     "metadata": {},
     "output_type": "display_data"
    }
   ],
   "source": [
    "# Draw the chart - Fig.07\n",
    "fig_07 = pie(duration, ['SameDay','>15Days','1-4Days', '5-10Days', '11-15Days'],\n",
    "             ['LightGreen','LightPink','Yellow','LightBlue', 'Red'],\n",
    "             [0.1, 0, 0, 0, 0])\n",
    "plt.title('Percentage of Appointments by Waiting Duration Category', fontsize=14);"
   ]
  },
  {
   "cell_type": "markdown",
   "id": "4d946307",
   "metadata": {},
   "source": [
    "> As we can see from *fig.07*, the number of appointments that were scheduled at the **same day** (SameDay category) accounts for the highest percentage (**37.07%**), while the **11-15 days** of waiting duration accounts for the lowest percentage (**7.40%**).\n",
    ">\n",
    ">The second highest percentage (**23.34%**) belongs to the appointments that have the waiting durtion **more than 15 days**. There is not so big gap between the figure of **1-4 days (17.17%)** and **5-10 days (15.02%)** of the waiting duration."
   ]
  },
  {
   "cell_type": "markdown",
   "id": "e5c8f1e9",
   "metadata": {},
   "source": [
    "##### Now we already know which Waiting Duration Category has the highest and lowest percentage of appointments. In the next step, I will generate insight into the Shown-up and No Shown-up percentage of each waiting duration category."
   ]
  },
  {
   "cell_type": "markdown",
   "id": "3ec77721",
   "metadata": {},
   "source": [
    "### Fig.08: Percentage of Present/Absent Appointments by Waiting Duration"
   ]
  },
  {
   "cell_type": "code",
   "execution_count": 77,
   "id": "d0670ba3",
   "metadata": {},
   "outputs": [
    {
     "data": {
      "text/html": [
       "<div>\n",
       "<style scoped>\n",
       "    .dataframe tbody tr th:only-of-type {\n",
       "        vertical-align: middle;\n",
       "    }\n",
       "\n",
       "    .dataframe tbody tr th {\n",
       "        vertical-align: top;\n",
       "    }\n",
       "\n",
       "    .dataframe thead th {\n",
       "        text-align: right;\n",
       "    }\n",
       "</style>\n",
       "<table border=\"1\" class=\"dataframe\">\n",
       "  <thead>\n",
       "    <tr style=\"text-align: right;\">\n",
       "      <th>NoShow</th>\n",
       "      <th>False</th>\n",
       "      <th>True</th>\n",
       "    </tr>\n",
       "    <tr>\n",
       "      <th>DurationCategory</th>\n",
       "      <th></th>\n",
       "      <th></th>\n",
       "    </tr>\n",
       "  </thead>\n",
       "  <tbody>\n",
       "    <tr>\n",
       "      <th>SameDay</th>\n",
       "      <td>94.40</td>\n",
       "      <td>5.60</td>\n",
       "    </tr>\n",
       "    <tr>\n",
       "      <th>1-4Days</th>\n",
       "      <td>76.40</td>\n",
       "      <td>23.60</td>\n",
       "    </tr>\n",
       "    <tr>\n",
       "      <th>5-10Days</th>\n",
       "      <td>72.90</td>\n",
       "      <td>27.10</td>\n",
       "    </tr>\n",
       "    <tr>\n",
       "      <th>11-15Days</th>\n",
       "      <td>68.02</td>\n",
       "      <td>31.98</td>\n",
       "    </tr>\n",
       "    <tr>\n",
       "      <th>&gt;15Days</th>\n",
       "      <td>67.33</td>\n",
       "      <td>32.67</td>\n",
       "    </tr>\n",
       "  </tbody>\n",
       "</table>\n",
       "</div>"
      ],
      "text/plain": [
       "NoShow            False   True\n",
       "DurationCategory              \n",
       "SameDay           94.40   5.60\n",
       "1-4Days           76.40  23.60\n",
       "5-10Days          72.90  27.10\n",
       "11-15Days         68.02  31.98\n",
       ">15Days           67.33  32.67"
      ]
     },
     "execution_count": 77,
     "metadata": {},
     "output_type": "execute_result"
    }
   ],
   "source": [
    "# Percentage of present/absent appointments by Waiting Duration\n",
    "pct_each_duration = df.groupby('DurationCategory')['NoShow'].value_counts(normalize=True).mul(100).round(2).unstack()\n",
    "pct_each_duration"
   ]
  },
  {
   "cell_type": "code",
   "execution_count": 78,
   "id": "f7fa5dac",
   "metadata": {},
   "outputs": [
    {
     "data": {
      "image/png": "[encoded data removed]",
      "text/plain": [
       "<Figure size 1440x360 with 1 Axes>"
      ]
     },
     "metadata": {
      "needs_background": "light"
     },
     "output_type": "display_data"
    }
   ],
   "source": [
    "# Draw the chart\n",
    "fig_08 = pct_each_duration.plot(kind='barh', color=['skyblue','pink'], figsize=(20,5))\n",
    "fig_08.set_title(\"Percentage of Present/Absent Appointments by Waiting Duration\", fontsize=14)\n",
    "plt.show()"
   ]
  },
  {
   "cell_type": "markdown",
   "id": "4fb87ec1",
   "metadata": {},
   "source": [
    "> **Q2: How long in average does it take between the ScheduledDay and AppointmentDay? Does the length of the waiting period affect to the decision of the patients who decided to not show up for their appointments?**\n",
    ">\n",
    ">In average, it takes **9.9** days between the ScheduledDay and AppointmentDay. The longer the waiting duration, the higher the percentage of *absent* appointments (*Fig.08*)."
   ]
  },
  {
   "cell_type": "markdown",
   "id": "0370d73d",
   "metadata": {},
   "source": [
    "### Q3: Which age range has the highest percentage for no show-up appointments?"
   ]
  },
  {
   "cell_type": "markdown",
   "id": "22560c7f",
   "metadata": {},
   "source": [
    "#####  Similar to the Waiting Duration, the Age will also be divided into different category to make it easier for the analysis:\n",
    "- 0-14: Children\n",
    "- 15-24: Youth\n",
    "- 25-64: Adults\n",
    "- 65 and over 65 (>=65): Seniors\n",
    "\n",
    "The ages were divided into category according to this article [Age Categories, Life Cycle Groupings](https://www.statcan.gc.ca/en/concepts/definitions/age2)\n"
   ]
  },
  {
   "cell_type": "code",
   "execution_count": 79,
   "id": "df8b30c7",
   "metadata": {},
   "outputs": [
    {
     "data": {
      "text/plain": [
       "count    110527.000000\n",
       "mean         37.088874\n",
       "std          23.110205\n",
       "min          -1.000000\n",
       "25%          18.000000\n",
       "50%          37.000000\n",
       "75%          55.000000\n",
       "max         115.000000\n",
       "Name: Age, dtype: float64"
      ]
     },
     "execution_count": 79,
     "metadata": {},
     "output_type": "execute_result"
    }
   ],
   "source": [
    "df['Age'].describe()"
   ]
  },
  {
   "cell_type": "code",
   "execution_count": 80,
   "id": "919a9902",
   "metadata": {},
   "outputs": [
    {
     "data": {
      "text/plain": [
       "1"
      ]
     },
     "execution_count": 80,
     "metadata": {},
     "output_type": "execute_result"
    }
   ],
   "source": [
    "# Check how many patients have minus age (which must be a mistake since age shouldn't be minus)\n",
    "len(df.query('Age < 0'))"
   ]
  },
  {
   "cell_type": "code",
   "execution_count": 81,
   "id": "459fa5a5",
   "metadata": {},
   "outputs": [],
   "source": [
    "# Drop the -1 age out of the dataframe\n",
    "df = df[df['Age'] >= 0]"
   ]
  },
  {
   "cell_type": "code",
   "execution_count": 82,
   "id": "881c164f",
   "metadata": {},
   "outputs": [
    {
     "data": {
      "text/plain": [
       "count    110526.000000\n",
       "mean         37.089219\n",
       "std          23.110026\n",
       "min           0.000000\n",
       "25%          18.000000\n",
       "50%          37.000000\n",
       "75%          55.000000\n",
       "max         115.000000\n",
       "Name: Age, dtype: float64"
      ]
     },
     "execution_count": 82,
     "metadata": {},
     "output_type": "execute_result"
    }
   ],
   "source": [
    "# Check if the -1 disappear\n",
    "df['Age'].describe() "
   ]
  },
  {
   "cell_type": "code",
   "execution_count": 83,
   "id": "de741cab",
   "metadata": {},
   "outputs": [],
   "source": [
    "# Divide Age into 4 categories and add AgeCategory column to the dataframe\n",
    "# 0-14: Children, 15-24: Youth, 25-64: Adults, 65 and over 65: Seniors\n",
    "bin_edges= [-0.1,14,24,64,116]\n",
    "bin_labels = ['Children','Youth','Adults','Seniors']\n",
    "df['AgeCategory'] = pd.cut(df['Age'], bins=bin_edges, labels=bin_labels)"
   ]
  },
  {
   "cell_type": "markdown",
   "id": "35ebfe07",
   "metadata": {},
   "source": [
    "### Fig.09: Percentage of Appoinments By Age Category"
   ]
  },
  {
   "cell_type": "code",
   "execution_count": 84,
   "id": "e7fbf85d",
   "metadata": {},
   "outputs": [
    {
     "data": {
      "text/plain": [
       "Adults      58857\n",
       "Children    23257\n",
       "Seniors     14402\n",
       "Youth       14010\n",
       "Name: AgeCategory, dtype: int64"
      ]
     },
     "execution_count": 84,
     "metadata": {},
     "output_type": "execute_result"
    }
   ],
   "source": [
    "# Number of apppointments by Age Category\n",
    "age = explore('AgeCategory')\n",
    "age"
   ]
  },
  {
   "cell_type": "code",
   "execution_count": 85,
   "id": "d9e77548",
   "metadata": {},
   "outputs": [
    {
     "data": {
      "image/png": "[encoded data removed]",
      "text/plain": [
       "<Figure size 432x288 with 1 Axes>"
      ]
     },
     "metadata": {},
     "output_type": "display_data"
    }
   ],
   "source": [
    "# Draw the chart\n",
    "fig_09 = pie(age, \n",
    "             ['Adults','Children','Seniors','Youth'],\n",
    "             ['LightGreen','LightPink','Yellow','LightBlue'],\n",
    "             [0.1, 0, 0, 0])\n",
    "plt.title('Percentage of Appointments by Age Category', fontsize=14);"
   ]
  },
  {
   "cell_type": "markdown",
   "id": "384498a9",
   "metadata": {},
   "source": [
    "> More than half of the total number of appointments are from **Adults** (25-64 years) (**53.25%**). The second highest number of appointments (**21.04%**) are from **Children** patients (0-14 years), followed by **Seniors**(**13.03%**). **Youth** patients (15-24 years) account for the lowest number of appointments (**12.68%**)."
   ]
  },
  {
   "cell_type": "markdown",
   "id": "a7794dfb",
   "metadata": {},
   "source": [
    "### Fig.10: Number of ABSENT Appointments by Age Category"
   ]
  },
  {
   "cell_type": "code",
   "execution_count": 86,
   "id": "c9f97966",
   "metadata": {},
   "outputs": [
    {
     "data": {
      "text/plain": [
       "Adults      11620\n",
       "Children     4926\n",
       "Youth        3540\n",
       "Seniors      2233\n",
       "Name: AgeCategory, dtype: int64"
      ]
     },
     "execution_count": 86,
     "metadata": {},
     "output_type": "execute_result"
    }
   ],
   "source": [
    "# Number of ABSENT appointments by Age Category\n",
    "age_noshow = df[df['NoShow']==True]['AgeCategory'].value_counts()\n",
    "age_noshow"
   ]
  },
  {
   "cell_type": "code",
   "execution_count": 87,
   "id": "24ffe21f",
   "metadata": {},
   "outputs": [
    {
     "data": {
      "image/png": "[encoded data removed]",
      "text/plain": [
       "<Figure size 1008x288 with 1 Axes>"
      ]
     },
     "metadata": {
      "needs_background": "light"
     },
     "output_type": "display_data"
    }
   ],
   "source": [
    "# Draw the chart\n",
    "fig_10 = age_noshow.plot.bar(edgecolor='black', color= 'Lightblue', figsize=[14,4], rot=0, width=0.4)\n",
    "fig_10.set_title('Number of ABSENT Appointments by Age Category', fontsize=14);"
   ]
  },
  {
   "cell_type": "markdown",
   "id": "30d002b4",
   "metadata": {},
   "source": [
    "### Fig.11: Percentage of ABSENT Appointment by Age Category (Out of the Total Number of Absent Appointments)"
   ]
  },
  {
   "cell_type": "code",
   "execution_count": 88,
   "id": "1199f3f0",
   "metadata": {},
   "outputs": [
    {
     "data": {
      "image/png": "[encoded data removed]",
      "text/plain": [
       "<Figure size 432x288 with 1 Axes>"
      ]
     },
     "metadata": {},
     "output_type": "display_data"
    }
   ],
   "source": [
    "fig_11 = pie(age_noshow,\n",
    "             ['Adults','Children','Youth','Seniors'],\n",
    "             ['LightGreen','LightPink','Yellow','LightBlue'],\n",
    "             [0.1, 0, 0, 0])\n",
    "plt.title('Percentage of ABSENT Appointments by Age Category', fontsize=14);"
   ]
  },
  {
   "cell_type": "markdown",
   "id": "62379236",
   "metadata": {},
   "source": [
    "> From *fig.09, 10, 11* we can see that **Adults** has the highest total number of booked appoinments. At the same time, **Adults** also has the highest number of absent appointments."
   ]
  },
  {
   "cell_type": "markdown",
   "id": "c26cc9e5",
   "metadata": {},
   "source": [
    "> **Q3: Which age range has the highest percentage for *absent* appointments?**\n",
    ">\n",
    "> As we can see, **Adults** has the highest number of appointments booked (**58,857** appointments, accounting for **53.25%** of the total number of appointments), but at the same time **Adults** also has the highest number of *absent* appointments (**11,620** *absent* appointments, accounting for **52.06%** of the total *absent* appointments). **Children** has the sencond highest percentage of absent appointments (**22.07%**), while only **10.00%** of **Seniors** are absent for their appointments."
   ]
  },
  {
   "cell_type": "markdown",
   "id": "34ecb81c",
   "metadata": {},
   "source": [
    "### Q4: How does the distribution of no show-up appointments in different neighbourhood look like? Which are the top 3 neighbourhood with no show-up appointments?"
   ]
  },
  {
   "cell_type": "code",
   "execution_count": 89,
   "id": "4a8ef319",
   "metadata": {},
   "outputs": [
    {
     "data": {
      "text/plain": [
       "81"
      ]
     },
     "execution_count": 89,
     "metadata": {},
     "output_type": "execute_result"
    }
   ],
   "source": [
    "# How many neigbourhood in the dataframe?\n",
    "df['Neighbourhood'].nunique()"
   ]
  },
  {
   "cell_type": "markdown",
   "id": "17ec6d0f",
   "metadata": {},
   "source": [
    "> **Note:** There are **81** neighbourhoods in total."
   ]
  },
  {
   "cell_type": "code",
   "execution_count": 90,
   "id": "3b79b3e8",
   "metadata": {},
   "outputs": [
    {
     "data": {
      "text/plain": [
       "JARDIM CAMBURI                 7717\n",
       "MARIA ORTIZ                    5805\n",
       "RESISTÊNCIA                    4431\n",
       "JARDIM DA PENHA                3877\n",
       "ITARARÉ                        3514\n",
       "                               ... \n",
       "ILHA DO BOI                      35\n",
       "ILHA DO FRADE                    10\n",
       "AEROPORTO                         8\n",
       "ILHAS OCEÂNICAS DE TRINDADE       2\n",
       "PARQUE INDUSTRIAL                 1\n",
       "Name: Neighbourhood, Length: 81, dtype: int64"
      ]
     },
     "execution_count": 90,
     "metadata": {},
     "output_type": "execute_result"
    }
   ],
   "source": [
    "# Number of appoinment by Neighbourhood (nbh)\n",
    "nbh = explore('Neighbourhood')\n",
    "nbh"
   ]
  },
  {
   "cell_type": "markdown",
   "id": "e055fd7b",
   "metadata": {},
   "source": [
    "### Fig.12: The Distribution of Appointments by Neighbourhood"
   ]
  },
  {
   "cell_type": "code",
   "execution_count": 91,
   "id": "16c49532",
   "metadata": {},
   "outputs": [
    {
     "data": {
      "image/png": "[encoded data removed]",
      "text/plain": [
       "<Figure size 1152x1152 with 1 Axes>"
      ]
     },
     "metadata": {
      "needs_background": "light"
     },
     "output_type": "display_data"
    }
   ],
   "source": [
    "# Draw the chart\n",
    "fig_12 = nbh.plot(kind='barh', color='Orange', figsize=(16,16))\n",
    "fig_12.set_xlabel('Number of Appointments')\n",
    "fig_12.set_ylabel('Neighbourhood')\n",
    "fig_12.set_title('The Distribution of Appointments by Neighbourhood', fontsize=14);"
   ]
  },
  {
   "cell_type": "markdown",
   "id": "6f969bc2",
   "metadata": {},
   "source": [
    "> Top 3 neigbourhoods that have the highest number of appointments:\n",
    "> - 1st: JARDIM CAMBURI \n",
    "> - 2nd: MARIA ORTIZ\n",
    "> - 3rd: RESISTÊNCIA"
   ]
  },
  {
   "cell_type": "code",
   "execution_count": 92,
   "id": "bf6922b3",
   "metadata": {},
   "outputs": [
    {
     "data": {
      "text/plain": [
       "JARDIM CAMBURI                 1465\n",
       "MARIA ORTIZ                    1219\n",
       "ITARARÉ                         923\n",
       "RESISTÊNCIA                     906\n",
       "CENTRO                          703\n",
       "                               ... \n",
       "ILHA DO BOI                       3\n",
       "ILHA DO FRADE                     2\n",
       "ILHAS OCEÂNICAS DE TRINDADE       2\n",
       "AEROPORTO                         1\n",
       "PARQUE INDUSTRIAL                 0\n",
       "Name: Neighbourhood, Length: 81, dtype: int64"
      ]
     },
     "execution_count": 92,
     "metadata": {},
     "output_type": "execute_result"
    }
   ],
   "source": [
    "# Number of ABSENT appointments by Neighbourhood\n",
    "nbh_noshow = df[df['NoShow']==True]['Neighbourhood'].value_counts()\n",
    "nbh_noshow"
   ]
  },
  {
   "cell_type": "markdown",
   "id": "df58705e",
   "metadata": {},
   "source": [
    "### Fig.13: The Distribution of Absent Appointments by Neighbourhood"
   ]
  },
  {
   "cell_type": "code",
   "execution_count": 93,
   "id": "b40bf550",
   "metadata": {},
   "outputs": [
    {
     "data": {
      "image/png": "[encoded data removed]",
      "text/plain": [
       "<Figure size 1080x1080 with 1 Axes>"
      ]
     },
     "metadata": {
      "needs_background": "light"
     },
     "output_type": "display_data"
    }
   ],
   "source": [
    "fig_13 = nbh_noshow.plot(kind='barh', color='Orange', figsize=(15,15))\n",
    "fig_13.set_xlabel('Number of Absent Appointments')\n",
    "fig_13.set_ylabel('Neighbourhood')\n",
    "fig_13.set_title('The Distribution of Absent Appointments by Neighbourhood', fontsize=14);"
   ]
  },
  {
   "cell_type": "markdown",
   "id": "8eeda616",
   "metadata": {},
   "source": [
    "> Top 3 neighbourhoods that have the highest number of **Absent** Appointments:\n",
    "> - 1st: JARDIM CAMBURI\n",
    "> - 2nd: MARIA ORTIZ\n",
    "> - 3rd: ITARARÉ\n",
    ">\n",
    "> As we can see, JARDIM CAMBURI and MARIA ORTIZ are the 2 neighbourhood that have the highest number of appointments. At the same time, these 2 neighbourhood also have the highest figure of absent appointments."
   ]
  },
  {
   "cell_type": "code",
   "execution_count": 94,
   "id": "3b3e7836",
   "metadata": {},
   "outputs": [
    {
     "data": {
      "text/plain": [
       "AEROPORTO              12.50\n",
       "ANDORINHAS             23.03\n",
       "ANTÔNIO HONÓRIO        18.45\n",
       "ARIOVALDO FAVALESSA    21.99\n",
       "BARRO VERMELHO         21.51\n",
       "                       ...  \n",
       "SÃO JOSÉ               21.65\n",
       "SÃO PEDRO              21.04\n",
       "TABUAZEIRO             18.30\n",
       "UNIVERSITÁRIO          21.05\n",
       "VILA RUBIM             16.57\n",
       "Name: Neighbourhood, Length: 81, dtype: float64"
      ]
     },
     "execution_count": 94,
     "metadata": {},
     "output_type": "execute_result"
    }
   ],
   "source": [
    "# Percentage of Absent appointment per nbh out of the total number of appointments each nbh has\n",
    "pct_nbh_noshow = (nbh_noshow/nbh).mul(100).round(2)\n",
    "pct_nbh_noshow"
   ]
  },
  {
   "cell_type": "markdown",
   "id": "77bab360",
   "metadata": {},
   "source": [
    "### Fig.14: Percentage of Absent Appointments Per Neighbourhood"
   ]
  },
  {
   "cell_type": "code",
   "execution_count": 95,
   "id": "bf30b28c",
   "metadata": {},
   "outputs": [
    {
     "data": {
      "image/png": "[encoded data removed]",
      "text/plain": [
       "<Figure size 1152x1152 with 1 Axes>"
      ]
     },
     "metadata": {
      "needs_background": "light"
     },
     "output_type": "display_data"
    }
   ],
   "source": [
    "fig_14= pct_nbh_noshow.plot(kind='barh', color='orange', figsize=(16,16))\n",
    "fig_14.set_xlabel('Percentage of Absent Appointments')\n",
    "fig_14.set_ylabel('Neighbourhood')\n",
    "fig_14.set_title('Percentage of Absent Appointments Per Neighbourhood', fontsize=14);"
   ]
  },
  {
   "cell_type": "code",
   "execution_count": 96,
   "id": "406eadde",
   "metadata": {},
   "outputs": [
    {
     "data": {
      "text/plain": [
       "2"
      ]
     },
     "execution_count": 96,
     "metadata": {},
     "output_type": "execute_result"
    }
   ],
   "source": [
    "# Total number of appointments in ILHAS OCEÂNICAS DE TRINDADE\n",
    "df[df['Neighbourhood']=='ILHAS OCEÂNICAS DE TRINDADE']['Neighbourhood'].count()"
   ]
  },
  {
   "cell_type": "code",
   "execution_count": 97,
   "id": "7fb40990",
   "metadata": {},
   "outputs": [
    {
     "data": {
      "text/plain": [
       "2"
      ]
     },
     "execution_count": 97,
     "metadata": {},
     "output_type": "execute_result"
    }
   ],
   "source": [
    "# Total number of ABSENT Appointments in ILHAS OCEÂNICAS DE TRINDADE\n",
    "nbh_noshow['ILHAS OCEÂNICAS DE TRINDADE']"
   ]
  },
  {
   "cell_type": "markdown",
   "id": "bbb26315",
   "metadata": {},
   "source": [
    "> *Fig.14* shows the percentage of *absent appointments* compared to the *total appointments each neighbourhood* has. For example, as we can see the neighbourhood *ILHAS OCEÂNICAS DE TRINDADE* has the percentage of *absent* appointments as **100%**, it is because the total number of appointments in this neighbourhood is **2** appointments, and the patients didn't show up for both of these 2 appointments, which results in the figure of **100%** as the percentage of *absent* appointment for this neighbourhood."
   ]
  },
  {
   "cell_type": "markdown",
   "id": "70e0eabc",
   "metadata": {},
   "source": [
    "### Q5: How do other factors (scholarship, hypertension, diabetes, alcoholism, handicap) affect to the shown-up/no shown-up rate of the patients?"
   ]
  },
  {
   "cell_type": "markdown",
   "id": "1075d51d",
   "metadata": {},
   "source": [
    "### *Scholarship: True or False. Indicating whether or not the patient is enrolled in Brasilian welfare program [Bolsa Família](https://en.wikipedia.org/wiki/Bolsa_Fam%C3%ADlia)*"
   ]
  },
  {
   "cell_type": "code",
   "execution_count": 98,
   "id": "c520de06",
   "metadata": {},
   "outputs": [
    {
     "data": {
      "text/plain": [
       "False    99665\n",
       "True     10861\n",
       "Name: Scholarship, dtype: int64"
      ]
     },
     "execution_count": 98,
     "metadata": {},
     "output_type": "execute_result"
    }
   ],
   "source": [
    "# The number of patients With and Without Scholarship\n",
    "scholarship = explore('Scholarship')\n",
    "scholarship"
   ]
  },
  {
   "cell_type": "markdown",
   "id": "2ad122d7",
   "metadata": {},
   "source": [
    "### Fig.15: Percentage of Patients WITH and WITHOUT Scholarship"
   ]
  },
  {
   "cell_type": "code",
   "execution_count": 99,
   "id": "a9219ea8",
   "metadata": {},
   "outputs": [
    {
     "data": {
      "image/png": "[encoded data removed]",
      "text/plain": [
       "<Figure size 432x288 with 1 Axes>"
      ]
     },
     "metadata": {},
     "output_type": "display_data"
    }
   ],
   "source": [
    "# Draw the chart\n",
    "fig_15 = pie(scholarship, ['Without Scholarship', 'With Scholarship'])\n",
    "pie_title('Scholarship');"
   ]
  },
  {
   "cell_type": "markdown",
   "id": "244d856f",
   "metadata": {},
   "source": [
    "> As we can see from *Fig.15*, the majority of patients are WITHOUT scholarship, accounts for **90.17%**, while there is only **9.83%** of the total number of patients are WITH scholarship."
   ]
  },
  {
   "cell_type": "code",
   "execution_count": 100,
   "id": "b1335c20",
   "metadata": {},
   "outputs": [
    {
     "data": {
      "text/html": [
       "<div>\n",
       "<style scoped>\n",
       "    .dataframe tbody tr th:only-of-type {\n",
       "        vertical-align: middle;\n",
       "    }\n",
       "\n",
       "    .dataframe tbody tr th {\n",
       "        vertical-align: top;\n",
       "    }\n",
       "\n",
       "    .dataframe thead th {\n",
       "        text-align: right;\n",
       "    }\n",
       "</style>\n",
       "<table border=\"1\" class=\"dataframe\">\n",
       "  <thead>\n",
       "    <tr style=\"text-align: right;\">\n",
       "      <th>Scholarship</th>\n",
       "      <th>False</th>\n",
       "      <th>True</th>\n",
       "    </tr>\n",
       "    <tr>\n",
       "      <th>NoShow</th>\n",
       "      <th></th>\n",
       "      <th></th>\n",
       "    </tr>\n",
       "  </thead>\n",
       "  <tbody>\n",
       "    <tr>\n",
       "      <th>False</th>\n",
       "      <td>80.19</td>\n",
       "      <td>76.26</td>\n",
       "    </tr>\n",
       "    <tr>\n",
       "      <th>True</th>\n",
       "      <td>19.81</td>\n",
       "      <td>23.74</td>\n",
       "    </tr>\n",
       "  </tbody>\n",
       "</table>\n",
       "</div>"
      ],
      "text/plain": [
       "Scholarship  False   True\n",
       "NoShow                   \n",
       "False        80.19  76.26\n",
       "True         19.81  23.74"
      ]
     },
     "execution_count": 100,
     "metadata": {},
     "output_type": "execute_result"
    }
   ],
   "source": [
    "# Percentage of present/absent appointments With/Without Scholarship\n",
    "pct_scholarship = unstack('Scholarship', 'NoShow')\n",
    "pct_scholarship"
   ]
  },
  {
   "cell_type": "markdown",
   "id": "dee263d8",
   "metadata": {},
   "source": [
    "### Fig.16: Percentage of Present/ Absent Appoinments by Scholarship"
   ]
  },
  {
   "cell_type": "code",
   "execution_count": 101,
   "id": "4da80632",
   "metadata": {},
   "outputs": [
    {
     "data": {
      "image/png": "[encoded data removed]",
      "text/plain": [
       "<Figure size 1008x576 with 1 Axes>"
      ]
     },
     "metadata": {
      "needs_background": "light"
     },
     "output_type": "display_data"
    }
   ],
   "source": [
    "# Draw the chart\n",
    "fig_16 = bar(pct_scholarship)\n",
    "bar_title(fig_16, 'Scholarship');   "
   ]
  },
  {
   "cell_type": "markdown",
   "id": "a4eed8e7",
   "metadata": {},
   "source": [
    "> As we can see from *Fig.16*, the patients who *enrolled* in Brasilian welfare program are **more likely** to be *absent* for their medical appointments (**23.74%**) than the one who are NOT enrolled in the program (**19.81%**). "
   ]
  },
  {
   "cell_type": "markdown",
   "id": "9a34e214",
   "metadata": {},
   "source": [
    "### *Hypertension: True or False. Indicating whether or not the patient has high blood pressure*"
   ]
  },
  {
   "cell_type": "markdown",
   "id": "126cdcb9",
   "metadata": {},
   "source": [
    "### Fig.17: Percentage of Patients WITH and WITHOUT Hypertension "
   ]
  },
  {
   "cell_type": "code",
   "execution_count": 102,
   "id": "59f18664",
   "metadata": {},
   "outputs": [
    {
     "data": {
      "text/plain": [
       "False    88725\n",
       "True     21801\n",
       "Name: Hypertension, dtype: int64"
      ]
     },
     "execution_count": 102,
     "metadata": {},
     "output_type": "execute_result"
    }
   ],
   "source": [
    "# Number of patients With and Without Hypertension\n",
    "hyper = explore('Hypertension')\n",
    "hyper"
   ]
  },
  {
   "cell_type": "code",
   "execution_count": 103,
   "id": "fb48ee6a",
   "metadata": {},
   "outputs": [
    {
     "data": {
      "image/png": "[encoded data removed]",
      "text/plain": [
       "<Figure size 432x288 with 1 Axes>"
      ]
     },
     "metadata": {},
     "output_type": "display_data"
    }
   ],
   "source": [
    "# Draw the chart \n",
    "fig_17 = pie(hyper,['Without Hypertension', 'With Hypertension'])\n",
    "pie_title('Hypertension');"
   ]
  },
  {
   "cell_type": "markdown",
   "id": "4acff23d",
   "metadata": {},
   "source": [
    "> As we can see from the pie chart, the majority of patients doesn't have hypertension (**80.28%**), while only **19.72%** of the total number of patients have hypertension."
   ]
  },
  {
   "cell_type": "code",
   "execution_count": 104,
   "id": "e898aeef",
   "metadata": {},
   "outputs": [
    {
     "data": {
      "text/html": [
       "<div>\n",
       "<style scoped>\n",
       "    .dataframe tbody tr th:only-of-type {\n",
       "        vertical-align: middle;\n",
       "    }\n",
       "\n",
       "    .dataframe tbody tr th {\n",
       "        vertical-align: top;\n",
       "    }\n",
       "\n",
       "    .dataframe thead th {\n",
       "        text-align: right;\n",
       "    }\n",
       "</style>\n",
       "<table border=\"1\" class=\"dataframe\">\n",
       "  <thead>\n",
       "    <tr style=\"text-align: right;\">\n",
       "      <th>Hypertension</th>\n",
       "      <th>False</th>\n",
       "      <th>True</th>\n",
       "    </tr>\n",
       "    <tr>\n",
       "      <th>NoShow</th>\n",
       "      <th></th>\n",
       "      <th></th>\n",
       "    </tr>\n",
       "  </thead>\n",
       "  <tbody>\n",
       "    <tr>\n",
       "      <th>False</th>\n",
       "      <td>79.1</td>\n",
       "      <td>82.7</td>\n",
       "    </tr>\n",
       "    <tr>\n",
       "      <th>True</th>\n",
       "      <td>20.9</td>\n",
       "      <td>17.3</td>\n",
       "    </tr>\n",
       "  </tbody>\n",
       "</table>\n",
       "</div>"
      ],
      "text/plain": [
       "Hypertension  False  True\n",
       "NoShow                   \n",
       "False          79.1  82.7\n",
       "True           20.9  17.3"
      ]
     },
     "execution_count": 104,
     "metadata": {},
     "output_type": "execute_result"
    }
   ],
   "source": [
    "# Percentage of present/absent appointments With/Without Hypertension\n",
    "pct_hyper = unstack('Hypertension', 'NoShow')\n",
    "pct_hyper"
   ]
  },
  {
   "cell_type": "markdown",
   "id": "5763cd7a",
   "metadata": {},
   "source": [
    "### Fig.18: Percentage of Present/ Absent Appoinments by Hypertension"
   ]
  },
  {
   "cell_type": "code",
   "execution_count": 105,
   "id": "a85b7dc8",
   "metadata": {},
   "outputs": [
    {
     "data": {
      "image/png": "[encoded data removed]",
      "text/plain": [
       "<Figure size 1008x576 with 1 Axes>"
      ]
     },
     "metadata": {
      "needs_background": "light"
     },
     "output_type": "display_data"
    }
   ],
   "source": [
    "# Draw the chart\n",
    "fig_18 = bar(pct_hyper)\n",
    "bar_title(fig_18, 'Hypertension');"
   ]
  },
  {
   "cell_type": "markdown",
   "id": "f4c8813d",
   "metadata": {},
   "source": [
    "> From *Fig.18*, we can see that the percentage of *absent* patients WITHOUT Hypertension (**20.90%**) is higher than that of WITH Hypertension (**17.30%**). Therefore, it can be said that the patients WITHOUT hypertension is *more likely to be absent* for their medical appointments than the patients WITH hypertension."
   ]
  },
  {
   "cell_type": "markdown",
   "id": "a6a34afb",
   "metadata": {},
   "source": [
    "### *Diabetes: True or False. Indicating whether or not the patient has high blood sugar/glucose*"
   ]
  },
  {
   "cell_type": "code",
   "execution_count": 106,
   "id": "068b63c1",
   "metadata": {},
   "outputs": [
    {
     "data": {
      "text/plain": [
       "False    102583\n",
       "True       7943\n",
       "Name: Diabetes, dtype: int64"
      ]
     },
     "execution_count": 106,
     "metadata": {},
     "output_type": "execute_result"
    }
   ],
   "source": [
    "# Number of patients With and Without Diabetes\n",
    "diabetes = explore('Diabetes')\n",
    "diabetes"
   ]
  },
  {
   "cell_type": "markdown",
   "id": "ca73938c",
   "metadata": {},
   "source": [
    "### Fig.19: Percentage of Patients WITH and WITHOUT Diabetes "
   ]
  },
  {
   "cell_type": "code",
   "execution_count": 107,
   "id": "4d631b47",
   "metadata": {},
   "outputs": [
    {
     "data": {
      "image/png": "[encoded data removed]",
      "text/plain": [
       "<Figure size 432x288 with 1 Axes>"
      ]
     },
     "metadata": {},
     "output_type": "display_data"
    }
   ],
   "source": [
    "# Draw the chart\n",
    "fig_19 = pie(diabetes, ['Without Diabetes', 'With Diabetes'])\n",
    "pie_title('Diabetes');"
   ]
  },
  {
   "cell_type": "markdown",
   "id": "f431a6d3",
   "metadata": {},
   "source": [
    "> The majority (**92.81%**) of the patients is WITHOUT diabetes, while only **7.19%** of the patients has diabetes."
   ]
  },
  {
   "cell_type": "code",
   "execution_count": 108,
   "id": "746ea9b7",
   "metadata": {},
   "outputs": [
    {
     "data": {
      "text/html": [
       "<div>\n",
       "<style scoped>\n",
       "    .dataframe tbody tr th:only-of-type {\n",
       "        vertical-align: middle;\n",
       "    }\n",
       "\n",
       "    .dataframe tbody tr th {\n",
       "        vertical-align: top;\n",
       "    }\n",
       "\n",
       "    .dataframe thead th {\n",
       "        text-align: right;\n",
       "    }\n",
       "</style>\n",
       "<table border=\"1\" class=\"dataframe\">\n",
       "  <thead>\n",
       "    <tr style=\"text-align: right;\">\n",
       "      <th>Diabetes</th>\n",
       "      <th>False</th>\n",
       "      <th>True</th>\n",
       "    </tr>\n",
       "    <tr>\n",
       "      <th>NoShow</th>\n",
       "      <th></th>\n",
       "      <th></th>\n",
       "    </tr>\n",
       "  </thead>\n",
       "  <tbody>\n",
       "    <tr>\n",
       "      <th>False</th>\n",
       "      <td>79.64</td>\n",
       "      <td>82.0</td>\n",
       "    </tr>\n",
       "    <tr>\n",
       "      <th>True</th>\n",
       "      <td>20.36</td>\n",
       "      <td>18.0</td>\n",
       "    </tr>\n",
       "  </tbody>\n",
       "</table>\n",
       "</div>"
      ],
      "text/plain": [
       "Diabetes  False  True\n",
       "NoShow               \n",
       "False     79.64  82.0\n",
       "True      20.36  18.0"
      ]
     },
     "execution_count": 108,
     "metadata": {},
     "output_type": "execute_result"
    }
   ],
   "source": [
    "# Percentage of present/absent appointments With/Without Diabetes\n",
    "pct_diabetes = unstack('Diabetes', 'NoShow')\n",
    "pct_diabetes"
   ]
  },
  {
   "cell_type": "markdown",
   "id": "c3f16956",
   "metadata": {},
   "source": [
    "### Fig.20: Percentage of Present/ Absent Appoinments by Diabetes"
   ]
  },
  {
   "cell_type": "code",
   "execution_count": 109,
   "id": "b97254be",
   "metadata": {},
   "outputs": [
    {
     "data": {
      "image/png": "[encoded data removed]",
      "text/plain": [
       "<Figure size 1008x576 with 1 Axes>"
      ]
     },
     "metadata": {
      "needs_background": "light"
     },
     "output_type": "display_data"
    }
   ],
   "source": [
    "# Draw the chart\n",
    "fig_20 = bar(pct_diabetes)\n",
    "bar_title(fig_20,'Diabetes');"
   ]
  },
  {
   "cell_type": "markdown",
   "id": "12cac482",
   "metadata": {},
   "source": [
    "> The patients WITHOUT diabetes (**20.36%**) are more likely to be *absent* for their medical appointments than the ones WITH diabetes (**18.00%**)."
   ]
  },
  {
   "cell_type": "markdown",
   "id": "8ed83406",
   "metadata": {},
   "source": [
    "### *Alcoholism: True or False. Indicating whther or not the patient has the addiction to alcohol*"
   ]
  },
  {
   "cell_type": "code",
   "execution_count": 110,
   "id": "32467fb6",
   "metadata": {},
   "outputs": [
    {
     "data": {
      "text/plain": [
       "False    107166\n",
       "True       3360\n",
       "Name: Alcoholism, dtype: int64"
      ]
     },
     "execution_count": 110,
     "metadata": {},
     "output_type": "execute_result"
    }
   ],
   "source": [
    "# Number of patients With and Without Alcoholism\n",
    "alcohol = explore('Alcoholism')\n",
    "alcohol"
   ]
  },
  {
   "cell_type": "markdown",
   "id": "289ec88b",
   "metadata": {},
   "source": [
    "### Fig.21: Percentage of Patients WITH and WITHOUT Alcoholism"
   ]
  },
  {
   "cell_type": "code",
   "execution_count": 111,
   "id": "88531a11",
   "metadata": {},
   "outputs": [
    {
     "data": {
      "image/png": "[encoded data removed]",
      "text/plain": [
       "<Figure size 432x288 with 1 Axes>"
      ]
     },
     "metadata": {},
     "output_type": "display_data"
    }
   ],
   "source": [
    "# Draw the chart\n",
    "fig_21 = pie(alcohol, ['Without Alcoholism', 'With Alcoholism'])\n",
    "pie_title('Alcoholism');"
   ]
  },
  {
   "cell_type": "markdown",
   "id": "2661c604",
   "metadata": {},
   "source": [
    "> The majority of patients (**96.96%**) is WITHOUT alcoholism, while only **3.04%** of patients is addicted to alcohol."
   ]
  },
  {
   "cell_type": "code",
   "execution_count": 112,
   "id": "38e38804",
   "metadata": {},
   "outputs": [
    {
     "data": {
      "text/html": [
       "<div>\n",
       "<style scoped>\n",
       "    .dataframe tbody tr th:only-of-type {\n",
       "        vertical-align: middle;\n",
       "    }\n",
       "\n",
       "    .dataframe tbody tr th {\n",
       "        vertical-align: top;\n",
       "    }\n",
       "\n",
       "    .dataframe thead th {\n",
       "        text-align: right;\n",
       "    }\n",
       "</style>\n",
       "<table border=\"1\" class=\"dataframe\">\n",
       "  <thead>\n",
       "    <tr style=\"text-align: right;\">\n",
       "      <th>Alcoholism</th>\n",
       "      <th>False</th>\n",
       "      <th>True</th>\n",
       "    </tr>\n",
       "    <tr>\n",
       "      <th>NoShow</th>\n",
       "      <th></th>\n",
       "      <th></th>\n",
       "    </tr>\n",
       "  </thead>\n",
       "  <tbody>\n",
       "    <tr>\n",
       "      <th>False</th>\n",
       "      <td>79.81</td>\n",
       "      <td>79.85</td>\n",
       "    </tr>\n",
       "    <tr>\n",
       "      <th>True</th>\n",
       "      <td>20.19</td>\n",
       "      <td>20.15</td>\n",
       "    </tr>\n",
       "  </tbody>\n",
       "</table>\n",
       "</div>"
      ],
      "text/plain": [
       "Alcoholism  False   True\n",
       "NoShow                  \n",
       "False       79.81  79.85\n",
       "True        20.19  20.15"
      ]
     },
     "execution_count": 112,
     "metadata": {},
     "output_type": "execute_result"
    }
   ],
   "source": [
    "# Percentage of present/absent appointments With/Without Alcoholism\n",
    "pct_alcohol = unstack('Alcoholism', 'NoShow')\n",
    "pct_alcohol"
   ]
  },
  {
   "cell_type": "markdown",
   "id": "c971099e",
   "metadata": {},
   "source": [
    "### Fig.22: Percentage of Present/ Absent Appoinments by Alcoholism"
   ]
  },
  {
   "cell_type": "code",
   "execution_count": 113,
   "id": "1078cf7c",
   "metadata": {},
   "outputs": [
    {
     "data": {
      "image/png": "[encoded data removed]",
      "text/plain": [
       "<Figure size 1008x576 with 1 Axes>"
      ]
     },
     "metadata": {
      "needs_background": "light"
     },
     "output_type": "display_data"
    }
   ],
   "source": [
    "# Draw the chart\n",
    "fig_22 = bar(pct_alcohol)\n",
    "bar_title(fig_22,'Alcoholism');"
   ]
  },
  {
   "cell_type": "markdown",
   "id": "b72444f7",
   "metadata": {},
   "source": [
    "> The percentage of *absent* patients WITH and WITHOUT alcoholism are about the same, **20.15%** and **20.19%** respectively. Therefore, it can be said that Alcoholism does not affect to the absent rate of the patients."
   ]
  },
  {
   "cell_type": "markdown",
   "id": "5547aa8e",
   "metadata": {},
   "source": [
    "### *Handicap: True or False. Indicating whether or not the patient is handicap*"
   ]
  },
  {
   "cell_type": "code",
   "execution_count": 114,
   "id": "59d0e707",
   "metadata": {},
   "outputs": [
    {
     "data": {
      "text/plain": [
       "False    108285\n",
       "True       2241\n",
       "Name: Handicap, dtype: int64"
      ]
     },
     "execution_count": 114,
     "metadata": {},
     "output_type": "execute_result"
    }
   ],
   "source": [
    "# Number of patients With and Without Handicap\n",
    "handicap = explore('Handicap')\n",
    "handicap"
   ]
  },
  {
   "cell_type": "markdown",
   "id": "e8820cf0",
   "metadata": {},
   "source": [
    "### Fig.23: Percentage of Patients WITH and WITHOUT Handicap"
   ]
  },
  {
   "cell_type": "code",
   "execution_count": 115,
   "id": "50bac3bc",
   "metadata": {},
   "outputs": [
    {
     "data": {
      "image/png": "[encoded data removed]",
      "text/plain": [
       "<Figure size 432x288 with 1 Axes>"
      ]
     },
     "metadata": {},
     "output_type": "display_data"
    }
   ],
   "source": [
    "# Draw the chart\n",
    "fig_23 = pie(handicap,['Without Handicap', 'With Handicap'])\n",
    "pie_title('Handicap');"
   ]
  },
  {
   "cell_type": "markdown",
   "id": "6544c7d4",
   "metadata": {},
   "source": [
    "> There is only a minority of patients are handicapped (**2.03%**). The rest of the patients are NOT handicapped (**97.97%**)."
   ]
  },
  {
   "cell_type": "code",
   "execution_count": 116,
   "id": "6e4d4fbd",
   "metadata": {},
   "outputs": [
    {
     "data": {
      "text/html": [
       "<div>\n",
       "<style scoped>\n",
       "    .dataframe tbody tr th:only-of-type {\n",
       "        vertical-align: middle;\n",
       "    }\n",
       "\n",
       "    .dataframe tbody tr th {\n",
       "        vertical-align: top;\n",
       "    }\n",
       "\n",
       "    .dataframe thead th {\n",
       "        text-align: right;\n",
       "    }\n",
       "</style>\n",
       "<table border=\"1\" class=\"dataframe\">\n",
       "  <thead>\n",
       "    <tr style=\"text-align: right;\">\n",
       "      <th>Handicap</th>\n",
       "      <th>False</th>\n",
       "      <th>True</th>\n",
       "    </tr>\n",
       "    <tr>\n",
       "      <th>NoShow</th>\n",
       "      <th></th>\n",
       "      <th></th>\n",
       "    </tr>\n",
       "  </thead>\n",
       "  <tbody>\n",
       "    <tr>\n",
       "      <th>False</th>\n",
       "      <td>79.76</td>\n",
       "      <td>81.84</td>\n",
       "    </tr>\n",
       "    <tr>\n",
       "      <th>True</th>\n",
       "      <td>20.24</td>\n",
       "      <td>18.16</td>\n",
       "    </tr>\n",
       "  </tbody>\n",
       "</table>\n",
       "</div>"
      ],
      "text/plain": [
       "Handicap  False   True\n",
       "NoShow                \n",
       "False     79.76  81.84\n",
       "True      20.24  18.16"
      ]
     },
     "execution_count": 116,
     "metadata": {},
     "output_type": "execute_result"
    }
   ],
   "source": [
    "# Percentage of present/absent appointments With/Without Handicap\n",
    "pct_handicap = unstack('Handicap', 'NoShow')\n",
    "pct_handicap"
   ]
  },
  {
   "cell_type": "markdown",
   "id": "22982133",
   "metadata": {},
   "source": [
    "### Fig.24: Percentage of Present/ Absent Appoinments by Handicap"
   ]
  },
  {
   "cell_type": "code",
   "execution_count": 117,
   "id": "256b3dca",
   "metadata": {},
   "outputs": [
    {
     "data": {
      "image/png": "[encoded data removed]",
      "text/plain": [
       "<Figure size 1008x576 with 1 Axes>"
      ]
     },
     "metadata": {
      "needs_background": "light"
     },
     "output_type": "display_data"
    }
   ],
   "source": [
    "# Draw the chart\n",
    "fig_24 = bar(pct_handicap)\n",
    "bar_title(fig_24,'Handicap');"
   ]
  },
  {
   "cell_type": "markdown",
   "id": "c87c76e3",
   "metadata": {},
   "source": [
    "> From *Fig.24*, we can see that the patients WITHOUT handicap (**20.24%**) is more likely to absent for their medical appointments than the ones who are handicapped (**18.16%**)."
   ]
  },
  {
   "cell_type": "markdown",
   "id": "ee5846c7",
   "metadata": {},
   "source": [
    "> **Q5: How do other factors (scholarship, hypertension, diabetes, alcoholism, handicap) affect to the shown-up/no shown-up rate of the patients?**\n",
    ">\n",
    "> **Scholarship:** the patients WITHOUT scholarship is less likely to be absent for their medical appointments than the patients WITH scholarship. The percentage of no shown-up patients WITHOUT scholarship is **19.81%**, while that of the patients WITH scholarship is **23.74%**.\n",
    ">\n",
    "> **Hypertension:** the percentage of *absent* patients WITHOUT Hypertension (**20.90%**) is higher than that of WITH Hypertension (**17.30%**). Therefore, it can be said that the patients WITHOUT hypertension is more likely to be absent for their medical appointments than the patients WITH hypertension.\n",
    ">\n",
    "> **Diabetes:** the patients WITHOUT diabetes (**20.36%**) are more likely to be *absent* for their medical appointments than the ones WITH diabetes (**18.00%**).\n",
    ">\n",
    "> **Alcoholism:** the percentage of *absent* patients WITH and WITHOUT alcoholism are about the same, **20.15%** and **20.19%** respectively. Therefore, it can be said that Alcoholism does not affect to the absent rate of the patients.\n",
    ">\n",
    "> **Handicap:** the patients WITHOUT handicap (**20.24%**) is more likely to absent for their medical appointments than the ones who are handicapped (**18.16%**)."
   ]
  },
  {
   "cell_type": "markdown",
   "id": "5b8fde35",
   "metadata": {},
   "source": [
    "### Q6: Would sending SMS messages to the patients affect to the present/absent rate of the patients?"
   ]
  },
  {
   "cell_type": "code",
   "execution_count": 118,
   "id": "bffdc9c1",
   "metadata": {},
   "outputs": [
    {
     "data": {
      "text/plain": [
       "False    75044\n",
       "True     35482\n",
       "Name: SMSReceived, dtype: int64"
      ]
     },
     "execution_count": 118,
     "metadata": {},
     "output_type": "execute_result"
    }
   ],
   "source": [
    "# Number of patients Received and Not Received SMS\n",
    "sms = explore('SMSReceived')\n",
    "sms"
   ]
  },
  {
   "cell_type": "markdown",
   "id": "a7b08e6c",
   "metadata": {},
   "source": [
    "### Fig.25: Percentage of Patients Received and NOT Received SMS"
   ]
  },
  {
   "cell_type": "code",
   "execution_count": 119,
   "id": "44bfd40b",
   "metadata": {},
   "outputs": [
    {
     "data": {
      "image/png": "[encoded data removed]",
      "text/plain": [
       "<Figure size 432x288 with 1 Axes>"
      ]
     },
     "metadata": {},
     "output_type": "display_data"
    }
   ],
   "source": [
    "fig_25 = pie(sms, ['Received SMS', 'Not Received SMS'])\n",
    "plt.title('Percentage of Patients Received and NOT Received SMS', fontsize=14);"
   ]
  },
  {
   "cell_type": "markdown",
   "id": "1518db06",
   "metadata": {},
   "source": [
    "> About **2/3** of the patients didn't received SMS for their medical appointments (**67.90%**), while the rest **32.10%** of the patients received one or more messages about their appointments."
   ]
  },
  {
   "cell_type": "code",
   "execution_count": 120,
   "id": "14106255",
   "metadata": {},
   "outputs": [
    {
     "data": {
      "text/html": [
       "<div>\n",
       "<style scoped>\n",
       "    .dataframe tbody tr th:only-of-type {\n",
       "        vertical-align: middle;\n",
       "    }\n",
       "\n",
       "    .dataframe tbody tr th {\n",
       "        vertical-align: top;\n",
       "    }\n",
       "\n",
       "    .dataframe thead th {\n",
       "        text-align: right;\n",
       "    }\n",
       "</style>\n",
       "<table border=\"1\" class=\"dataframe\">\n",
       "  <thead>\n",
       "    <tr style=\"text-align: right;\">\n",
       "      <th>SMSReceived</th>\n",
       "      <th>False</th>\n",
       "      <th>True</th>\n",
       "    </tr>\n",
       "    <tr>\n",
       "      <th>NoShow</th>\n",
       "      <th></th>\n",
       "      <th></th>\n",
       "    </tr>\n",
       "  </thead>\n",
       "  <tbody>\n",
       "    <tr>\n",
       "      <th>False</th>\n",
       "      <td>83.3</td>\n",
       "      <td>72.43</td>\n",
       "    </tr>\n",
       "    <tr>\n",
       "      <th>True</th>\n",
       "      <td>16.7</td>\n",
       "      <td>27.57</td>\n",
       "    </tr>\n",
       "  </tbody>\n",
       "</table>\n",
       "</div>"
      ],
      "text/plain": [
       "SMSReceived  False   True\n",
       "NoShow                   \n",
       "False         83.3  72.43\n",
       "True          16.7  27.57"
      ]
     },
     "execution_count": 120,
     "metadata": {},
     "output_type": "execute_result"
    }
   ],
   "source": [
    "pct_sms = unstack('SMSReceived', 'NoShow')\n",
    "pct_sms"
   ]
  },
  {
   "cell_type": "markdown",
   "id": "d05d30f6",
   "metadata": {},
   "source": [
    "### Fig.26: Percentage of Present/ Absent Appoinments by SMS Received"
   ]
  },
  {
   "cell_type": "code",
   "execution_count": 121,
   "id": "ea23878f",
   "metadata": {},
   "outputs": [
    {
     "data": {
      "image/png": "[encoded data removed]",
      "text/plain": [
       "<Figure size 1008x576 with 1 Axes>"
      ]
     },
     "metadata": {
      "needs_background": "light"
     },
     "output_type": "display_data"
    }
   ],
   "source": [
    "fig_26 = bar(pct_sms)\n",
    "bar_title(fig_26, 'SMS Received');"
   ]
  },
  {
   "cell_type": "markdown",
   "id": "df4c0fe3",
   "metadata": {},
   "source": [
    "> The patients who received SMS are more likely to be absent for their medical appointments (**27.57%**), while only **16.70%** of the patients who didn't received SMS absent for their appointments. Therefore, sending SMS to the patients does not seem to influence the patient's decision of being present/absent for their appointments."
   ]
  },
  {
   "cell_type": "markdown",
   "id": "625287fd",
   "metadata": {},
   "source": [
    "<a id='conclusions'></a>\n",
    "\n",
    "## Conclusions"
   ]
  },
  {
   "cell_type": "markdown",
   "id": "3089d270",
   "metadata": {},
   "source": [
    "Based on the analysis, these following factors would **influence** the decision to be *absent* of the patients:\n",
    "\n",
    "\n",
    "> - **Waiting Duration:** The average waiting duration is **9.9** days, the minimum is **0** day ( the scheduled date and the actual appointment date happened at the same date), and the maximum waiting duration is **179** days. The number of appointments that were scheduled at the **same day** accounts for the highest percentage (**37.07%**), while the **11-15 days** of waiting duration accounts for the lowest percentage (**7.40%**) --> The longer the waiting duration between the scheduled date and appoinment date, the higher the percentage of absent appointments.\n",
    ">\n",
    ">\n",
    "> - **Age:** More than half of the total number of appointments are from Adults (25-64 years) (**53.25%**). The second highest number of appointments (**21.04%**) are from Children patients (0-14 years), followed by Seniors (**13.03%**). Youth patients (15-24 years) account for the lowest number of appointments (**12.68%**). While **Adults** has the highest percentage of total appointments, **Adults** also has the highest percentage of *absent* appointments (**52.06%** of the total *absent* appointments). **Children** has the sencond highest percentage of *absent* appointments (**22.07%**), while only **10.00%** of **Seniors** are *absent* for their appointments.\n",
    ">\n",
    ">\n",
    "> - **Neighbourhood:** *JARDIM CAMBURI* and *MARIA ORTIZ* are the two neighbourhoods that have the highest number of medical appointments. At the same time, these two neighbourhoods also have the highest numbers of *absent* appointments.\n",
    ">\n",
    ">\n",
    "> - **Scholarship:** The majority of patients is WITHOUT scholarship (**90.17%**), while there is only **9.83%** of the total number of patients is WITH scholarship. The patients WITH scholarship is more likely to be *absent* for their medical appointments (**23.74%**), while that of the patients WITHOUT scholarship is **19.81%**.\n",
    ">\n",
    ">\n",
    "> - **Hypertension:** The majority of patients doesn't have hypertension (**80.28%**), while only **19.72%** of the total number of patients have hypertension. The patients WITHOUT hypertension (**20.90%**) is more likely to be *absent* for their medical appointments than the patients WITH hypertension (**17.30%**).\n",
    ">\n",
    ">\n",
    "> - **Diabetes:** In the total number of patients, **92.81%** of the patients is WITHOUT diabetes, while only **7.19%** of the patients has diabetes. The patients WITHOUT diabetes (**20.36%**) are more likely to be *absent* for their medical appointments than the ones WITH diabetes (**18.00%**).\n",
    ">\n",
    ">\n",
    "> - **Handicap:** There is only a minority of patients are handicapped (**2.03%**). The rest of the patients are not handicapped (**97.97%**). The patients who are NOT handicapped (**20.24%**) is more likely to be *absent* for their medical appointments than the ones that are handicapped (**18.16%**).\n",
    "\n",
    "These following factors would **not influence** the decision to be *absent* of the patients:\n",
    "> - **Gender:** In general, **65.39%** of the absent appointments belongs to *Female* patients, while **35.61%** is of *Male* patients. However, Female has **almost double** the total amount of appointments booked (**71,840** appointments) compared to Male (**38,687** appointments). Since Female has more booked appointments than Male in general, therefore, that could be one reason why the numbers of absent appointments generated by Female is higher than that of Male patients. If we only consider the absent rate out of the total number of appointments each gender, then Female and Male have about the same absent rate, **20.31%** and **19.97%** respectively. --> I would conclude that *Gender* does NOT affect to the absent rate of the patients.\n",
    ">\n",
    ">\n",
    "> - **Alcoholism:** The majority of patients (**96.96%**) is NOT addicted to alcohol, while only **3.04%** of patients is suffering WITH alcoholism. The percentage of *absent* patients WITH and WITHOUT alcoholism are about the same, **20.15%** and **20.19%** respectively. --> Alcoholism does not affect to the absent rate of the patients.\n",
    ">\n",
    ">\n",
    "> - **SMS Received:** About **2/3** of the patients did NOT received SMS for their medical appointments (**67.90%**), while the rest **32.10%** of the patients received one or more messages about their appointments. The patients who received SMS are more likely to be *absent* for their medical appointments (**27.57%**), while only **16.70%** of the patients who didn't received SMS *absent* for their appointments. Therefore, sending SMS to the patients does not seem to influence the patient's decision of being present/absent for their appointments.\n"
   ]
  }
 ],
 "metadata": {
  "kernelspec": {
   "display_name": "Python 3.9.7 ('base')",
   "language": "python",
   "name": "python3"
  },
  "language_info": {
   "codemirror_mode": {
    "name": "ipython",
    "version": 3
   },
   "file_extension": ".py",
   "mimetype": "text/x-python",
   "name": "python",
   "nbconvert_exporter": "python",
   "pygments_lexer": "ipython3",
   "version": "3.9.7"
  },
  "vscode": {
   "interpreter": {
    "hash": "2f6f713a73131929884107d5879e1415f96edbb4ada91f63cc7d284d9afa6fbd"
   }
  }
 },
 "nbformat": 4,
 "nbformat_minor": 5
}
